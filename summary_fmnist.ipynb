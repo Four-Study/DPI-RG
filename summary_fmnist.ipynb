{
 "cells": [
  {
   "cell_type": "code",
   "execution_count": 1,
   "id": "397cf45f",
   "metadata": {},
   "outputs": [],
   "source": [
    "import pickle\n",
    "import numpy as np\n",
    "import torch"
   ]
  },
  {
   "cell_type": "code",
   "execution_count": 9,
   "id": "e0eb8d4d-a226-4bb4-9d68-95e590affa46",
   "metadata": {},
   "outputs": [
    {
     "name": "stdout",
     "output_type": "stream",
     "text": [
      "0.95386666\n",
      "0.0021458012\n",
      "0.9539223\n",
      "0.0021647627\n"
     ]
    }
   ],
   "source": [
    "with open('outputs/FMNIST/resnet18.pkl', 'rb') as inp:\n",
    "    res = pickle.load(inp)\n",
    "cover_accs, avg_errors = res\n",
    "\n",
    "for i in range(len(avg_errors)):\n",
    "    cover_accs[i] = cover_accs[i].numpy()\n",
    "    avg_errors[i] = avg_errors[i].numpy()\n",
    "cover_accs = np.array(cover_accs)\n",
    "avg_errors = np.array(avg_errors)\n",
    "\n",
    "# print(cover_accs)\n",
    "# print(avg_errors)\n",
    "\n",
    "# print(np.mean(np.average(cover_accs, 1)))\n",
    "# print(np.std(np.average(cover_accs, 1)))\n",
    "\n",
    "# print(np.mean(np.average(avg_errors, 1)))\n",
    "# print(np.std(np.average(avg_errors, 1)))\n",
    "\n",
    "print(np.mean(np.average(np.delete(cover_accs, 7, axis=0), 1)))\n",
    "print(np.std(np.average(np.delete(cover_accs, 7, axis=0), 1)))\n",
    "\n",
    "print(np.mean(np.average(np.delete(avg_errors, 7, axis=0), 1)))\n",
    "print(np.std(np.average(np.delete(avg_errors, 7, axis=0), 1)))"
   ]
  },
  {
   "cell_type": "code",
   "execution_count": 13,
   "id": "62f141e1-5d93-4513-8bfd-9385821ca3d9",
   "metadata": {},
   "outputs": [
    {
     "name": "stdout",
     "output_type": "stream",
     "text": [
      "0.95761997\n",
      "0.001739455\n",
      "0.96021\n",
      "0.00568728\n"
     ]
    }
   ],
   "source": [
    "with open('outputs/FMNIST/resnet34.pkl', 'rb') as inp:\n",
    "    res = pickle.load(inp)\n",
    "cover_accs, avg_errors = res\n",
    "\n",
    "for i in range(len(avg_errors)):\n",
    "    cover_accs[i] = cover_accs[i].numpy()\n",
    "    avg_errors[i] = avg_errors[i].numpy()\n",
    "cover_accs = np.array(cover_accs)\n",
    "avg_errors = np.array(avg_errors)\n",
    "\n",
    "# print(cover_accs)\n",
    "# print(avg_errors)\n",
    "\n",
    "print(np.mean(np.average(cover_accs, 1)))\n",
    "print(np.std(np.average(cover_accs, 1)))\n",
    "\n",
    "print(np.mean(np.average(avg_errors, 1)))\n",
    "print(np.std(np.average(avg_errors, 1)))"
   ]
  },
  {
   "cell_type": "code",
   "execution_count": 7,
   "id": "f0d4ba2b-e17e-4683-98ec-095ef4e9603e",
   "metadata": {},
   "outputs": [
    {
     "name": "stdout",
     "output_type": "stream",
     "text": [
      "0.95215565\n",
      "0.0029608794\n",
      "0.9548667\n",
      "0.0019561625\n"
     ]
    }
   ],
   "source": [
    "with open('outputs/FMNIST/vgg16.pkl', 'rb') as inp:\n",
    "    res = pickle.load(inp)\n",
    "cover_accs, avg_errors = res\n",
    "\n",
    "for i in range(len(avg_errors)):\n",
    "    cover_accs[i] = cover_accs[i].numpy()\n",
    "    avg_errors[i] = avg_errors[i].numpy()\n",
    "cover_accs = np.array(cover_accs)\n",
    "avg_errors = np.array(avg_errors)\n",
    "\n",
    "# print(cover_accs)\n",
    "# print(avg_errors)\n",
    "\n",
    "# print(np.mean(np.average(cover_accs, 1)))\n",
    "# print(np.std(np.average(cover_accs, 1)))\n",
    "\n",
    "# print(np.mean(np.average(avg_errors, 1)))\n",
    "# print(np.std(np.average(avg_errors, 1)))\n",
    "\n",
    "print(np.mean(np.average(np.delete(cover_accs, 1, axis=0), 1)))\n",
    "print(np.std(np.average(np.delete(cover_accs, 1, axis=0), 1)))\n",
    "\n",
    "print(np.mean(np.average(np.delete(avg_errors, 1, axis=0), 1)))\n",
    "print(np.std(np.average(np.delete(avg_errors, 1, axis=0), 1)))"
   ]
  },
  {
   "cell_type": "code",
   "execution_count": 3,
   "id": "06f5f1d8",
   "metadata": {},
   "outputs": [],
   "source": [
    "# benchmark = np.array([1] * 9 + [0])\n",
    "weights5 = [1000] * 9 + [int(9000 / 19)]\n",
    "weights10 = [1000] * 9 + [int(9000 / 9)]"
   ]
  },
  {
   "cell_type": "code",
   "execution_count": 24,
   "id": "e326ea72-dfc1-4b73-88a1-853b3d1fcf0c",
   "metadata": {},
   "outputs": [
    {
     "name": "stdout",
     "output_type": "stream",
     "text": [
      "[[0.94  0.948 0.964 0.955 0.951 0.956 0.948 0.951 0.948 0.948]]\n",
      "[[0.06  0.052 0.036 0.045 0.049 0.044 0.052 0.049 0.052 0.052]]\n",
      "0.9510613254983334\n",
      "0.0\n",
      "0.048938667773885836\n",
      "0.0\n"
     ]
    }
   ],
   "source": [
    "with open('outputs/FMNIST/resnet18_2024_02_08_1347.pkl', 'rb') as inp:\n",
    "    res = pickle.load(inp)\n",
    "cover_accs, avg_errors = res\n",
    "\n",
    "for i in range(len(avg_errors)):\n",
    "    cover_accs[i] = cover_accs[i].numpy()\n",
    "    avg_errors[i] = avg_errors[i].numpy()\n",
    "cover_accs = np.array(cover_accs)\n",
    "avg_errors = np.array(avg_errors)\n",
    "\n",
    "print(cover_accs)\n",
    "print(avg_errors)\n",
    "\n",
    "print(np.mean(np.average(cover_accs, 1, weights = weights5)))\n",
    "print(np.std(np.average(cover_accs, 1, weights = weights5)))\n",
    "\n",
    "print(np.mean(np.average(avg_errors, 1, weights = weights5)))\n",
    "print(np.std(np.average(avg_errors, 1, weights = weights5)))"
   ]
  },
  {
   "cell_type": "code",
   "execution_count": 3,
   "id": "7a224db6",
   "metadata": {},
   "outputs": [
    {
     "name": "stdout",
     "output_type": "stream",
     "text": [
      "0.8959600000000002\n",
      "0.0020105720578979178\n",
      "0.9456\n",
      "0.0014966629547094991\n",
      "1.0768\n",
      "0.007523828812512998\n",
      "1.22418\n",
      "0.01227866442248505\n"
     ]
    }
   ],
   "source": [
    "# naive and APS\n",
    "with open('../APS/APS_Res18_fmnist.pkl', 'rb') as inp:\n",
    "    res = pickle.load(inp)\n",
    "naive_covert, naive_sizet, APS_covert, APS_sizet, top1t_acc, top3t_acc, \\\n",
    "naive_covers, naive_sizes, APS_covers, APS_sizes, top1s_acc, top3s_acc = res\n",
    "\n",
    "# print(np.mean(np.mean(top1s_acc, 1)))\n",
    "# print(np.mean(np.mean(top3s_acc, 1)))\n",
    "\n",
    "# print(np.std(np.mean(top1s_acc, 1)))\n",
    "# print(np.std(np.mean(top3s_acc, 1)))\n",
    "\n",
    "print(np.mean(np.mean(naive_covers, 1)))\n",
    "print(np.std(np.mean(naive_covers, 1)))\n",
    "\n",
    "print(np.mean(np.mean(APS_covers, 1)))\n",
    "print(np.std(np.mean(APS_covers, 1)))\n",
    "\n",
    "print(np.mean(np.mean(naive_sizes, 1)))\n",
    "print(np.std(np.mean(naive_sizes, 1)))\n",
    "\n",
    "print(np.mean(np.mean(APS_sizes, 1)))\n",
    "print(np.std(np.mean(APS_sizes, 1)))"
   ]
  },
  {
   "cell_type": "code",
   "execution_count": 7,
   "id": "9594d511",
   "metadata": {},
   "outputs": [
    {
     "name": "stdout",
     "output_type": "stream",
     "text": [
      "0.89284\n",
      "0.0016548111674751116\n",
      "0.94618\n",
      "0.0017302023003106428\n",
      "1.04436\n",
      "0.003965148168732161\n",
      "1.18532\n",
      "0.0174980456051527\n"
     ]
    }
   ],
   "source": [
    "# naive and APS\n",
    "with open('../APS/APS_Res34_fmnist.pkl', 'rb') as inp:\n",
    "    res = pickle.load(inp)\n",
    "naive_covert, naive_sizet, APS_covert, APS_sizet, top1t_acc, top3t_acc, \\\n",
    "naive_covers, naive_sizes, APS_covers, APS_sizes, top1s_acc, top3s_acc = res\n",
    "\n",
    "# print(np.mean(np.mean(top1s_acc, 1)))\n",
    "# print(np.mean(np.mean(top3s_acc, 1)))\n",
    "\n",
    "# print(np.std(np.mean(top1s_acc, 1)))\n",
    "# print(np.std(np.mean(top3s_acc, 1)))\n",
    "\n",
    "print(np.mean(np.mean(naive_covers, 1)))\n",
    "print(np.std(np.mean(naive_covers, 1)))\n",
    "\n",
    "print(np.mean(np.mean(APS_covers, 1)))\n",
    "print(np.std(np.mean(APS_covers, 1)))\n",
    "\n",
    "print(np.mean(np.mean(naive_sizes, 1)))\n",
    "print(np.std(np.mean(naive_sizes, 1)))\n",
    "\n",
    "print(np.mean(np.mean(APS_sizes, 1)))\n",
    "print(np.std(np.mean(APS_sizes, 1)))"
   ]
  },
  {
   "cell_type": "code",
   "execution_count": 3,
   "id": "fcdfaf4b",
   "metadata": {},
   "outputs": [
    {
     "name": "stdout",
     "output_type": "stream",
     "text": [
      "0.8973800000000001\n",
      "0.00274401166178282\n",
      "0.94668\n",
      "0.002768681996907537\n",
      "1.00446\n",
      "0.003280304863880807\n",
      "1.10814\n",
      "0.014224148480664897\n"
     ]
    }
   ],
   "source": [
    "# naive and APS\n",
    "with open('../APS/APS_VGG16_fmnist.pkl', 'rb') as inp:\n",
    "    res = pickle.load(inp)\n",
    "naive_covert, naive_sizet, APS_covert, APS_sizet, top1t_acc, top3t_acc, \\\n",
    "naive_covers, naive_sizes, APS_covers, APS_sizes, top1s_acc, top3s_acc = res\n",
    "\n",
    "# print(np.mean(np.mean(top1s_acc, 1)))\n",
    "# print(np.mean(np.mean(top3s_acc, 1)))\n",
    "\n",
    "# print(np.std(np.mean(top1s_acc, 1)))\n",
    "# print(np.std(np.mean(top3s_acc, 1)))\n",
    "\n",
    "print(np.mean(np.mean(naive_covers, 1)))\n",
    "print(np.std(np.mean(naive_covers, 1)))\n",
    "\n",
    "print(np.mean(np.mean(APS_covers, 1)))\n",
    "print(np.std(np.mean(APS_covers, 1)))\n",
    "\n",
    "print(np.mean(np.mean(naive_sizes, 1)))\n",
    "print(np.std(np.mean(naive_sizes, 1)))\n",
    "\n",
    "print(np.mean(np.mean(APS_sizes, 1)))\n",
    "print(np.std(np.mean(APS_sizes, 1)))"
   ]
  },
  {
   "cell_type": "code",
   "execution_count": 22,
   "id": "8849d938",
   "metadata": {},
   "outputs": [
    {
     "name": "stdout",
     "output_type": "stream",
     "text": [
      "0.8477620605932652\n",
      "0.010727903243785001\n",
      "0.8975984376649425\n",
      "0.0027443330668506225\n",
      "0.1151831098912699\n",
      "0.07923778976548995\n",
      "0.3157968806080439\n",
      "0.05287895030521173\n"
     ]
    }
   ],
   "source": [
    "# naive and APS\n",
    "with open('../APS/APS_VGG16_fmnist_OOD5.pkl', 'rb') as inp:\n",
    "    res = pickle.load(inp)\n",
    "naive_covert, naive_sizet, APS_covert, APS_sizet, top1t_acc, top3t_acc, \\\n",
    "naive_covers, naive_sizes, APS_covers, APS_sizes, top1s_acc, top3s_acc = res\n",
    "\n",
    "# print(np.mean(np.mean(top1s_acc, 1)))\n",
    "# print(np.mean(np.mean(top3s_acc, 1)))\n",
    "\n",
    "print(np.mean(np.average(naive_covers, 1, weights = weights5)))\n",
    "print(np.std(np.average(naive_covers, 1, weights = weights5)))\n",
    "\n",
    "print(np.mean(np.average(APS_covers, 1, weights = weights5)))\n",
    "print(np.std(np.average(APS_covers, 1, weights = weights5)))\n",
    "\n",
    "print(np.mean(np.average(naive_sizes - benchmark, 1, weights = weights5)))\n",
    "print(np.std(np.average(naive_sizes - benchmark, 1, weights = weights5)))\n",
    "\n",
    "print(np.mean(np.average(APS_sizes - benchmark, 1, weights = weights5)))\n",
    "print(np.std(np.average(APS_sizes - benchmark, 1, weights = weights5)))"
   ]
  },
  {
   "cell_type": "code",
   "execution_count": 37,
   "id": "234d6ac5",
   "metadata": {},
   "outputs": [
    {
     "name": "stdout",
     "output_type": "stream",
     "text": [
      "0.8003263157894738\n",
      "0.004904009326991984\n",
      "0.8510526315789475\n",
      "0.0019470269970967972\n",
      "0.21828421052631575\n",
      "0.03191424798388223\n",
      "0.49041052631578946\n",
      "0.05367881964676906\n"
     ]
    }
   ],
   "source": [
    "# naive and APS\n",
    "with open('../APS/APS_VGG16_fmnist_OOD10.pkl', 'rb') as inp:\n",
    "    res = pickle.load(inp)\n",
    "naive_covert, naive_sizet, APS_covert, APS_sizet, top1t_acc, top3t_acc, \\\n",
    "naive_covers, naive_sizes, APS_covers, APS_sizes, top1s_acc, top3s_acc = res\n",
    "\n",
    "## delete an outlier\n",
    "naive_covers = [x for i,x in enumerate(naive_covers) if i!=5]\n",
    "APS_covers = [x for i,x in enumerate(APS_covers) if i!=5]\n",
    "naive_sizes = [x for i,x in enumerate(naive_sizes) if i!=5]\n",
    "APS_sizes = [x for i,x in enumerate(APS_sizes) if i!=5]\n",
    "\n",
    "# print(np.mean(np.mean(top1s_acc, 1)))\n",
    "# print(np.mean(np.mean(top3s_acc, 1)))\n",
    "\n",
    "print(np.mean(np.average(naive_covers, 1, weights = weights10)))\n",
    "print(np.std(np.average(naive_covers, 1, weights = weights10)))\n",
    "\n",
    "print(np.mean(np.average(APS_covers, 1, weights = weights10)))\n",
    "print(np.std(np.average(APS_covers, 1, weights = weights10)))\n",
    "\n",
    "print(np.mean(np.average(naive_sizes - benchmark, 1, weights = weights10)))\n",
    "print(np.std(np.average(naive_sizes - benchmark, 1, weights = weights10)))\n",
    "\n",
    "print(np.mean(np.average(APS_sizes - benchmark, 1, weights = weights10)))\n",
    "print(np.std(np.average(APS_sizes - benchmark, 1, weights = weights10)))"
   ]
  },
  {
   "cell_type": "code",
   "execution_count": 38,
   "id": "a24581b6",
   "metadata": {},
   "outputs": [
    {
     "name": "stdout",
     "output_type": "stream",
     "text": [
      "0.8426528027024173\n",
      "0.0035431310569854577\n",
      "0.8985379499630527\n",
      "0.0015152177842638666\n",
      "0.136705315106091\n",
      "0.007703175554899455\n",
      "0.3743107885569513\n",
      "0.014074595724119893\n"
     ]
    }
   ],
   "source": [
    "# naive and APS\n",
    "with open('../APS/APS_Res18_fmnist_OOD5.pkl', 'rb') as inp:\n",
    "    res = pickle.load(inp)\n",
    "naive_covert, naive_sizet, APS_covert, APS_sizet, top1t_acc, top3t_acc, \\\n",
    "naive_covers, naive_sizes, APS_covers, APS_sizes, top1s_acc, top3s_acc = res\n",
    "\n",
    "# print(np.mean(np.mean(top1s_acc, 1)))\n",
    "# print(np.mean(np.mean(top3s_acc, 1)))\n",
    "\n",
    "print(np.mean(np.average(naive_covers, 1, weights = weights5)))\n",
    "print(np.std(np.average(naive_covers, 1, weights = weights5)))\n",
    "\n",
    "print(np.mean(np.average(APS_covers, 1, weights = weights5)))\n",
    "print(np.std(np.average(APS_covers, 1, weights = weights5)))\n",
    "\n",
    "print(np.mean(np.average(naive_sizes - benchmark, 1, weights = weights5)))\n",
    "print(np.std(np.average(naive_sizes - benchmark, 1, weights = weights5)))\n",
    "\n",
    "print(np.mean(np.average(APS_sizes - benchmark, 1, weights = weights5)))\n",
    "print(np.std(np.average(APS_sizes - benchmark, 1, weights = weights5)))"
   ]
  },
  {
   "cell_type": "code",
   "execution_count": 41,
   "id": "4f6c27fc",
   "metadata": {},
   "outputs": [
    {
     "name": "stdout",
     "output_type": "stream",
     "text": [
      "0.796415\n",
      "0.0023113361936334584\n",
      "0.85099\n",
      "0.001372552366942691\n",
      "0.33125499999999997\n",
      "0.015121027577516018\n",
      "0.6894899999999999\n",
      "0.026707319221516795\n"
     ]
    }
   ],
   "source": [
    "# naive and APS\n",
    "with open('../APS/APS_Res18_fmnist_OOD10.pkl', 'rb') as inp:\n",
    "    res = pickle.load(inp)\n",
    "naive_covert, naive_sizet, APS_covert, APS_sizet, top1t_acc, top3t_acc, \\\n",
    "naive_covers, naive_sizes, APS_covers, APS_sizes, top1s_acc, top3s_acc = res\n",
    "\n",
    "# print(np.mean(np.mean(top1s_acc, 1)))\n",
    "# print(np.mean(np.mean(top3s_acc, 1)))\n",
    "\n",
    "print(np.mean(np.average(naive_covers, 1, weights = weights10)))\n",
    "print(np.std(np.average(naive_covers, 1, weights = weights10)))\n",
    "\n",
    "print(np.mean(np.average(APS_covers, 1, weights = weights10)))\n",
    "print(np.std(np.average(APS_covers, 1, weights = weights10)))\n",
    "\n",
    "print(np.mean(np.average(naive_sizes - benchmark, 1, weights = weights10)))\n",
    "print(np.std(np.average(naive_sizes - benchmark, 1, weights = weights10)))\n",
    "\n",
    "print(np.mean(np.average(APS_sizes - benchmark, 1, weights = weights10)))\n",
    "print(np.std(np.average(APS_sizes - benchmark, 1, weights = weights10)))"
   ]
  },
  {
   "cell_type": "code",
   "execution_count": 42,
   "id": "13de6624",
   "metadata": {},
   "outputs": [
    {
     "name": "stdout",
     "output_type": "stream",
     "text": [
      "0.8288504169745593\n",
      "0.0032540353083972485\n",
      "0.8993032830148844\n",
      "0.0016302250022308137\n",
      "0.10322761532777365\n",
      "0.021591097225197694\n",
      "0.39447961575002644\n",
      "0.036293440976599346\n"
     ]
    }
   ],
   "source": [
    "# naive and APS\n",
    "with open('../APS/APS_Res34_fmnist_OOD5.pkl', 'rb') as inp:\n",
    "    res = pickle.load(inp)\n",
    "naive_covert, naive_sizet, APS_covert, APS_sizet, top1t_acc, top3t_acc, \\\n",
    "naive_covers, naive_sizes, APS_covers, APS_sizes, top1s_acc, top3s_acc = res\n",
    "\n",
    "# print(np.mean(np.mean(top1s_acc, 1)))\n",
    "# print(np.mean(np.mean(top3s_acc, 1)))\n",
    "\n",
    "print(np.mean(np.average(naive_covers, 1, weights = weights5)))\n",
    "print(np.std(np.average(naive_covers, 1, weights = weights5)))\n",
    "\n",
    "print(np.mean(np.average(APS_covers, 1, weights = weights5)))\n",
    "print(np.std(np.average(APS_covers, 1, weights = weights5)))\n",
    "\n",
    "print(np.mean(np.average(naive_sizes - benchmark, 1, weights = weights5)))\n",
    "print(np.std(np.average(naive_sizes - benchmark, 1, weights = weights5)))\n",
    "\n",
    "print(np.mean(np.average(APS_sizes - benchmark, 1, weights = weights5)))\n",
    "print(np.std(np.average(APS_sizes - benchmark, 1, weights = weights5)))"
   ]
  },
  {
   "cell_type": "code",
   "execution_count": 43,
   "id": "aa811c3f",
   "metadata": {},
   "outputs": [
    {
     "name": "stdout",
     "output_type": "stream",
     "text": [
      "0.78497\n",
      "0.0024702429030360497\n",
      "0.85108\n",
      "0.00197119253245339\n",
      "0.22773000000000004\n",
      "0.012855586334352862\n",
      "0.6167800000000001\n",
      "0.030486449448894518\n"
     ]
    }
   ],
   "source": [
    "# naive and APS\n",
    "with open('../APS/APS_Res34_fmnist_OOD10.pkl', 'rb') as inp:\n",
    "    res = pickle.load(inp)\n",
    "naive_covert, naive_sizet, APS_covert, APS_sizet, top1t_acc, top3t_acc, \\\n",
    "naive_covers, naive_sizes, APS_covers, APS_sizes, top1s_acc, top3s_acc = res\n",
    "\n",
    "# print(np.mean(np.mean(top1s_acc, 1)))\n",
    "# print(np.mean(np.mean(top3s_acc, 1)))\n",
    "\n",
    "print(np.mean(np.average(naive_covers, 1, weights = weights10)))\n",
    "print(np.std(np.average(naive_covers, 1, weights = weights10)))\n",
    "\n",
    "print(np.mean(np.average(APS_covers, 1, weights = weights10)))\n",
    "print(np.std(np.average(APS_covers, 1, weights = weights10)))\n",
    "\n",
    "print(np.mean(np.average(naive_sizes - benchmark, 1, weights = weights10)))\n",
    "print(np.std(np.average(naive_sizes - benchmark, 1, weights = weights10)))\n",
    "\n",
    "print(np.mean(np.average(APS_sizes - benchmark, 1, weights = weights10)))\n",
    "print(np.std(np.average(APS_sizes - benchmark, 1, weights = weights10)))"
   ]
  },
  {
   "cell_type": "code",
   "execution_count": 18,
   "id": "73dc98aa",
   "metadata": {},
   "outputs": [
    {
     "name": "stdout",
     "output_type": "stream",
     "text": [
      "0.93887997\n",
      "0.0018082102\n",
      "0.93887997\n",
      "0.0018082102\n"
     ]
    }
   ],
   "source": [
    "# FCI on VGG16\n",
    "with open('fmnist/FCI_VGG16_fmnist.pkl', 'rb') as inp:\n",
    "    res = pickle.load(inp)\n",
    "top1s, top3s, cover_accs, avg_errors = res\n",
    "for i in range(len(avg_errors)):\n",
    "    cover_accs[i] = cover_accs[i].numpy()\n",
    "    avg_errors[i] = avg_errors[i].numpy()\n",
    "cover_accs = np.array(cover_accs)\n",
    "avg_errors = np.array(avg_errors)\n",
    "\n",
    "print(np.mean(np.mean(cover_accs, 1)))\n",
    "print(np.std(np.mean(cover_accs, 1)))\n",
    "\n",
    "print(np.mean(np.mean(avg_errors, 1)))\n",
    "print(np.std(np.mean(avg_errors, 1)))"
   ]
  },
  {
   "cell_type": "code",
   "execution_count": 21,
   "id": "3dfa29af",
   "metadata": {},
   "outputs": [
    {
     "name": "stdout",
     "output_type": "stream",
     "text": [
      "0.9578714445779181\n",
      "0.001813124912862376\n",
      "0.042128554740917715\n",
      "0.001813128275162122\n"
     ]
    }
   ],
   "source": [
    "with open('fmnist/FCI_VGG16_fmnist_OOD5.pkl', 'rb') as inp:\n",
    "    res = pickle.load(inp)\n",
    "cover_accs, avg_errors = res\n",
    "\n",
    "for i in range(len(avg_errors)):\n",
    "    cover_accs[i] = cover_accs[i].numpy()\n",
    "    avg_errors[i] = avg_errors[i].numpy()\n",
    "cover_accs = np.array(cover_accs)\n",
    "avg_errors = np.array(avg_errors)\n",
    "\n",
    "print(np.mean(np.average(cover_accs, 1, weights = weights5)))\n",
    "print(np.std(np.average(cover_accs, 1, weights = weights5)))\n",
    "\n",
    "print(np.mean(np.average(avg_errors, 1, weights = weights5)))\n",
    "print(np.std(np.average(avg_errors, 1, weights = weights5)))"
   ]
  },
  {
   "cell_type": "code",
   "execution_count": 22,
   "id": "dbe265cc",
   "metadata": {},
   "outputs": [
    {
     "name": "stdout",
     "output_type": "stream",
     "text": [
      "0.9577200031280517\n",
      "0.0020989504153993547\n",
      "0.04228000040864572\n",
      "0.0020989520765093746\n"
     ]
    }
   ],
   "source": [
    "with open('fmnist/FCI_VGG16_fmnist_OOD10.pkl', 'rb') as inp:\n",
    "    res = pickle.load(inp)\n",
    "cover_accs, avg_errors = res\n",
    "\n",
    "for i in range(len(avg_errors)):\n",
    "    cover_accs[i] = cover_accs[i].numpy()\n",
    "    avg_errors[i] = avg_errors[i].numpy()\n",
    "cover_accs = np.array(cover_accs)\n",
    "avg_errors = np.array(avg_errors)\n",
    "\n",
    "print(np.mean(np.average(cover_accs, 1, weights = weights10)))\n",
    "print(np.std(np.average(cover_accs, 1, weights = weights10)))\n",
    "\n",
    "print(np.mean(np.average(avg_errors, 1, weights = weights10)))\n",
    "print(np.std(np.average(avg_errors, 1, weights = weights10)))"
   ]
  },
  {
   "cell_type": "code",
   "execution_count": 5,
   "id": "b048f7cd",
   "metadata": {},
   "outputs": [
    {
     "name": "stdout",
     "output_type": "stream",
     "text": [
      "0.99969995\n",
      "0.00018973673\n",
      "0.23379\n",
      "0.030671332\n"
     ]
    }
   ],
   "source": [
    "# FCI on Res18\n",
    "with open('fmnist/FPI_resnet18_fmnist_OOD0.pkl', 'rb') as inp:\n",
    "    res = pickle.load(inp)\n",
    "cover_accs, avg_errors = res\n",
    "for i in range(len(avg_errors)):\n",
    "    cover_accs[i] = cover_accs[i].numpy()\n",
    "    avg_errors[i] = avg_errors[i].numpy()\n",
    "cover_accs = np.array(cover_accs)\n",
    "avg_errors = np.array(avg_errors)\n",
    "\n",
    "print(np.mean(np.mean(cover_accs, 1)))\n",
    "print(np.std(np.mean(cover_accs, 1)))\n",
    "\n",
    "print(np.mean(np.mean(avg_errors, 1)))\n",
    "print(np.std(np.mean(avg_errors, 1)))"
   ]
  },
  {
   "cell_type": "code",
   "execution_count": 11,
   "id": "e5a86aba",
   "metadata": {},
   "outputs": [
    {
     "name": "stdout",
     "output_type": "stream",
     "text": [
      "0.94701750378978\n",
      "0.0027702445679946173\n",
      "0.052982493938484664\n",
      "0.002770249265421771\n"
     ]
    }
   ],
   "source": [
    "# FCI on Res18 with outliers\n",
    "\n",
    "with open('fmnist/FCI_Res18_fmnist_OOD5.pkl', 'rb') as inp:\n",
    "    res = pickle.load(inp)\n",
    "cover_accs, avg_errors = res\n",
    "for i in range(len(avg_errors)):\n",
    "    cover_accs[i] = cover_accs[i].numpy()\n",
    "    avg_errors[i] = avg_errors[i].numpy()\n",
    "cover_accs = np.array(cover_accs)\n",
    "avg_errors = np.array(avg_errors)\n",
    "\n",
    "print(np.mean(np.average(cover_accs, 1, weights = weights5)))\n",
    "print(np.std(np.average(cover_accs, 1, weights = weights5)))\n",
    "\n",
    "print(np.mean(np.average(avg_errors, 1, weights = weights5)))\n",
    "print(np.std(np.average(avg_errors, 1, weights = weights5)))"
   ]
  },
  {
   "cell_type": "code",
   "execution_count": 12,
   "id": "31ccf280",
   "metadata": {},
   "outputs": [
    {
     "name": "stdout",
     "output_type": "stream",
     "text": [
      "0.9473499993483226\n",
      "0.008730165656534304\n",
      "0.05265000021511999\n",
      "0.008730167922643374\n"
     ]
    }
   ],
   "source": [
    "# FCI on Res18 with outliers\n",
    "\n",
    "with open('fmnist/FCI_Res18_fmnist_OOD10.pkl', 'rb') as inp:\n",
    "    res = pickle.load(inp)\n",
    "cover_accs, avg_errors = res\n",
    "for i in range(len(avg_errors)):\n",
    "    cover_accs[i] = cover_accs[i].numpy()\n",
    "    avg_errors[i] = avg_errors[i].numpy()\n",
    "cover_accs = np.array(cover_accs)\n",
    "avg_errors = np.array(avg_errors)\n",
    "\n",
    "# print(np.mean(np.mean(top1s_acc, 1)))\n",
    "# print(np.mean(np.mean(top3s_acc, 1)))\n",
    "\n",
    "print(np.mean(np.average(cover_accs, 1, weights = weights10)))\n",
    "print(np.std(np.average(cover_accs, 1, weights = weights10)))\n",
    "\n",
    "print(np.mean(np.average(avg_errors, 1, weights = weights10)))\n",
    "print(np.std(np.average(avg_errors, 1, weights = weights10)))"
   ]
  },
  {
   "cell_type": "code",
   "execution_count": 13,
   "id": "8311f98c",
   "metadata": {},
   "outputs": [
    {
     "name": "stdout",
     "output_type": "stream",
     "text": [
      "0.95056\n",
      "0.0024743355\n",
      "9.95056\n",
      "0.0024743322\n"
     ]
    }
   ],
   "source": [
    "# FCI on Res34\n",
    "with open('fmnist/FCI_Res34_fmnist.pkl', 'rb') as inp:\n",
    "    res = pickle.load(inp)\n",
    "top1s, top3s, cover_accs, avg_errors = res\n",
    "for i in range(len(avg_errors)):\n",
    "    cover_accs[i] = cover_accs[i].numpy()\n",
    "    avg_errors[i] = avg_errors[i].numpy()\n",
    "cover_accs = np.array(cover_accs)\n",
    "avg_errors = np.array(avg_errors)\n",
    "\n",
    "print(np.mean(np.mean(cover_accs, 1)))\n",
    "print(np.std(np.mean(cover_accs, 1)))\n",
    "\n",
    "print(np.mean(np.mean(avg_errors, 1)))\n",
    "print(np.std(np.mean(avg_errors, 1)))"
   ]
  },
  {
   "cell_type": "code",
   "execution_count": 16,
   "id": "ca721f08",
   "metadata": {},
   "outputs": [
    {
     "name": "stdout",
     "output_type": "stream",
     "text": [
      "0.9641296290475465\n",
      "0.0036411776626115123\n",
      "0.03587036841105291\n",
      "0.0036411801951418904\n"
     ]
    }
   ],
   "source": [
    "# FCI on Res34 with outliers\n",
    "with open('fmnist/FCI_Res34_fmnist_OOD5.pkl', 'rb') as inp:\n",
    "    res = pickle.load(inp)\n",
    "cover_accs, avg_errors = res\n",
    "for i in range(len(avg_errors)):\n",
    "    cover_accs[i] = cover_accs[i].numpy()\n",
    "    avg_errors[i] = avg_errors[i].numpy()\n",
    "cover_accs = np.array(cover_accs)\n",
    "avg_errors = np.array(avg_errors)\n",
    "\n",
    "# print(np.mean(np.mean(top1s_acc, 1)))\n",
    "# print(np.mean(np.mean(top3s_acc, 1)))\n",
    "\n",
    "print(np.mean(np.average(cover_accs, 1, weights = weights5)))\n",
    "print(np.std(np.average(cover_accs, 1, weights = weights5)))\n",
    "\n",
    "print(np.mean(np.average(avg_errors, 1, weights = weights5)))\n",
    "print(np.std(np.average(avg_errors, 1, weights = weights5)))"
   ]
  },
  {
   "cell_type": "code",
   "execution_count": 17,
   "id": "7c559c19",
   "metadata": {},
   "outputs": [
    {
     "name": "stdout",
     "output_type": "stream",
     "text": [
      "0.9580599999427795\n",
      "0.010956204077373433\n",
      "0.04194000029936432\n",
      "0.010956203929771351\n"
     ]
    }
   ],
   "source": [
    "with open('fmnist/FCI_Res34_fmnist_OOD10.pkl', 'rb') as inp:\n",
    "    res = pickle.load(inp)\n",
    "cover_accs, avg_errors = res\n",
    "\n",
    "for i in range(len(avg_errors)):\n",
    "    cover_accs[i] = cover_accs[i].numpy()\n",
    "    avg_errors[i] = avg_errors[i].numpy()\n",
    "cover_accs = np.array(cover_accs)\n",
    "avg_errors = np.array(avg_errors)\n",
    "\n",
    "print(np.mean(np.average(cover_accs, 1, weights = weights10)))\n",
    "print(np.std(np.average(cover_accs, 1, weights = weights10)))\n",
    "\n",
    "print(np.mean(np.average(avg_errors, 1, weights = weights10)))\n",
    "print(np.std(np.average(avg_errors, 1, weights = weights10)))"
   ]
  }
 ],
 "metadata": {
  "kernelspec": {
   "display_name": "Python 3 (ipykernel)",
   "language": "python",
   "name": "python3"
  },
  "language_info": {
   "codemirror_mode": {
    "name": "ipython",
    "version": 3
   },
   "file_extension": ".py",
   "mimetype": "text/x-python",
   "name": "python",
   "nbconvert_exporter": "python",
   "pygments_lexer": "ipython3",
   "version": "3.11.5"
  }
 },
 "nbformat": 4,
 "nbformat_minor": 5
}
