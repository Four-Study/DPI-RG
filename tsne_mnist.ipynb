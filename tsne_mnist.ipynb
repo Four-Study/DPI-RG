{
 "cells": [
  {
   "cell_type": "code",
   "execution_count": 1,
   "id": "f60371f0",
   "metadata": {},
   "outputs": [],
   "source": [
    "#!/usr/bin/env python\n",
    "# coding: utf-8\n",
    "\n",
    "import itertools\n",
    "\n",
    "import torch\n",
    "import torch.nn as nn\n",
    "import torchvision\n",
    "import torchvision.utils as vutils\n",
    "import torchvision.transforms as transforms\n",
    "import torchvision.models as models\n",
    "from torch import optim\n",
    "from torch.utils.data import DataLoader\n",
    "\n",
    "from models import GeneratorA2B\n",
    "from models import GeneratorB2A\n",
    "from models import DiscriminatorA\n",
    "\n",
    "from utils import train_al\n",
    "from utils import visualize_fake_C, visualize_p\n",
    "from utils import weights_init_normal\n",
    "from utils import weights_init\n",
    "from utils import LambdaLR\n",
    "\n",
    "# import different loss functions for GAN B\n",
    "from geomloss import SamplesLoss\n",
    "\n",
    "import os\n",
    "os.makedirs('mnist_models', exist_ok=True)\n",
    "import numpy as np\n",
    "\n",
    "# hyper-parameters\n",
    "# device        = torch.device(\"cuda\" if cuda else \"cpu\")\n",
    "transform     = transforms.Compose([transforms.ToTensor(),\n",
    "                                    transforms.Normalize((0.5,), (0.5,))])\n",
    "trainset_A    = torchvision.datasets.MNIST(root=\"./datasets\",train=True, transform=transform, download=True)\n",
    "testset_A     = torchvision.datasets.MNIST(root=\"./datasets\",train=False, transform=transform, download=True)\n",
    "missing_label = []\n",
    "present_label = list(range(10))\n",
    "all_label     = present_label + missing_label\n",
    "# classes       = trainset_A.classes\n",
    "# idxs          = torch.where(torch.Tensor([x in present_label for x in trainset_A.targets]))[0] \n",
    "# idxs_         = torch.where(torch.Tensor([x in all_label for x in testset_A.targets]))[0]\n",
    "# train_data    = torch.utils.data.Subset(trainset_A, idxs)\n",
    "# test_data     = torch.utils.data.Subset(testset_A, idxs_)\n",
    "\n",
    "# train_loader  = DataLoader(train_data, batch_size=batch_size, shuffle=True)\n",
    "# test_loader   = DataLoader(test_data, batch_size=batch_size, shuffle=False)\n"
   ]
  },
  {
   "cell_type": "code",
   "execution_count": 3,
   "id": "05a7c4e3-003e-4fd4-a75a-57a6de40b461",
   "metadata": {},
   "outputs": [
    {
     "name": "stdout",
     "output_type": "stream",
     "text": [
      "0\n",
      "1\n",
      "2\n",
      "3\n",
      "4\n",
      "5\n",
      "6\n",
      "7\n",
      "8\n",
      "9\n"
     ]
    }
   ],
   "source": [
    "from sklearn.neighbors import KernelDensity\n",
    "from sklearn.manifold import TSNE\n",
    "kdes = []\n",
    "for i in range(len(present_label)):\n",
    "    if torch.is_tensor(trainset_A.targets):\n",
    "        idxs = torch.where(trainset_A.targets == i)[0] \n",
    "    else:\n",
    "        idxs = torch.where(torch.Tensor(trainset_A.targets) == i)[0] \n",
    "    x_subset = trainset_A.data[idxs].view(-1, 28*28)\n",
    "#     train_data = torch.utils.data.Subset(trainset_A, idxs)\n",
    "#     x_subset = train_data.dataset.data.view(-1,28*28)\n",
    "    tsne = TSNE(random_state = 42, n_components=2,verbose=0, perplexity=40, n_iter=300).fit_transform(x_subset)\n",
    "    kde = KernelDensity(kernel='gaussian', bandwidth=1)\n",
    "    kde.fit(tsne)\n",
    "    kdes.append(kde)\n",
    "    print(i)"
   ]
  },
  {
   "cell_type": "code",
   "execution_count": 12,
   "id": "ca660b3a",
   "metadata": {},
   "outputs": [
    {
     "name": "stdout",
     "output_type": "stream",
     "text": [
      "Finished Label 0\n",
      "Finished Label 1\n",
      "Finished Label 2\n",
      "Finished Label 3\n",
      "Finished Label 4\n",
      "Finished Label 5\n",
      "Finished Label 6\n",
      "Finished Label 7\n",
      "Finished Label 8\n",
      "Finished Label 9\n"
     ]
    }
   ],
   "source": [
    "test_x = testset_A.data.view(-1, 28*28)\n",
    "test_tsne = TSNE(random_state = 42, n_components=2,verbose=0, perplexity=40, n_iter=300).fit_transform(test_x)\n",
    "# dens_class and store p-values for each class \n",
    "dens_classes = np.zeros((len(present_label), len(testset_A.targets)))\n",
    "for lab in all_label:   \n",
    "    kde = kdes[lab]\n",
    "    log_p = kde.score_samples(test_tsne)\n",
    "    p = np.exp(log_p)\n",
    "    # calculate the p-value and put it in the corresponding list\n",
    "    dens_classes[lab, :] = p\n",
    "    ## logger\n",
    "    print('Finished Label {}'.format(lab))"
   ]
  },
  {
   "cell_type": "code",
   "execution_count": 29,
   "id": "f1be6a1b",
   "metadata": {},
   "outputs": [],
   "source": [
    "cover_accs = []\n",
    "avg_sizes = []"
   ]
  },
  {
   "cell_type": "code",
   "execution_count": 30,
   "id": "bb1589bb",
   "metadata": {},
   "outputs": [],
   "source": [
    "cover = torch.zeros(len(all_label))\n",
    "size = torch.zeros(len(all_label))\n",
    "count = torch.zeros(len(all_label))\n",
    "for i in range(len(testset_A.targets)):\n",
    "    dens = dens_classes[:,i]\n",
    "    lab = testset_A.targets[i].item()\n",
    "    ## sort the p value list and get the corresponding indicies\n",
    "    sorted = -np.sort(-dens)\n",
    "    indicies = np.argsort(-dens)\n",
    "    if sorted[0] == 0:\n",
    "        p_set = np.array([])\n",
    "    else:\n",
    "        ## find the minimum index when the coverage first exceeds 1-alpha\n",
    "        idx = np.argmax(np.cumsum(sorted) / np.sum(sorted) > 0.95)\n",
    "        p_set = indicies[:idx + 1]\n",
    "        size[lab] += len(p_set)\n",
    "    if lab in missing_label:\n",
    "        if len(p_set) == 0:\n",
    "            cover[lab] += 1\n",
    "    else:\n",
    "        if lab in p_set:\n",
    "            cover[lab] += 1\n",
    "    count[lab] += 1\n",
    "\n",
    "cover_acc = torch.div(cover, count)\n",
    "avg_size = torch.div(size, count)\n",
    "cover_accs.append(cover_acc)\n",
    "avg_sizes.append(avg_size)"
   ]
  },
  {
   "cell_type": "code",
   "execution_count": 31,
   "id": "a5703dce",
   "metadata": {},
   "outputs": [],
   "source": [
    "cover = torch.zeros(len(all_label))\n",
    "size = torch.zeros(len(all_label))\n",
    "count = torch.zeros(len(all_label))\n",
    "for i in range(len(testset_A.targets)):\n",
    "    dens = dens_classes[:,i]\n",
    "    lab = testset_A.targets[i].item()\n",
    "    ## sort the p value list and get the corresponding indicies\n",
    "    sorted = -np.sort(-dens)\n",
    "    sorted_norm = sorted / np.sum(sorted)\n",
    "    indicies = np.argsort(-dens)\n",
    "    if sorted[0] == 0:\n",
    "        p_set = np.array([])\n",
    "    else:\n",
    "        ## find the minimum index when the coverage first exceeds 1-alpha\n",
    "        sorted_norm_cumsum = np.cumsum(sorted_norm)\n",
    "        idx = np.argmax(sorted_norm_cumsum > 0.95)\n",
    "        if idx != 0:\n",
    "            gamma = (0.95 - sorted_norm_cumsum[idx - 1]) / sorted_norm[idx]\n",
    "        else: \n",
    "            gamma = 0.95 / sorted_norm[idx]\n",
    "        if np.random.rand(1) < gamma:\n",
    "            p_set = indicies[:idx + 1]\n",
    "        else: \n",
    "            p_set = indicies[:idx]\n",
    "        size[lab] += len(p_set)\n",
    "    if lab in missing_label:\n",
    "        if len(p_set) == 0:\n",
    "            cover[lab] += 1\n",
    "    else:\n",
    "        if lab in p_set:\n",
    "            cover[lab] += 1\n",
    "    count[lab] += 1\n",
    "\n",
    "cover_acc = torch.div(cover, count)\n",
    "avg_size = torch.div(size, count)\n",
    "cover_accs.append(cover_acc)\n",
    "avg_sizes.append(avg_size)"
   ]
  },
  {
   "cell_type": "code",
   "execution_count": 32,
   "id": "179111ad",
   "metadata": {},
   "outputs": [
    {
     "data": {
      "text/plain": [
       "[tensor([1.0000, 1.0000, 0.8052, 1.0000, 1.0000, 0.9854, 0.5929, 1.0000, 0.9938,\n",
       "         0.9960]),\n",
       " tensor([0.9990, 0.9427, 0.6783, 0.9653, 1.0000, 0.8632, 0.4405, 0.9874, 0.9918,\n",
       "         0.9921])]"
      ]
     },
     "execution_count": 32,
     "metadata": {},
     "output_type": "execute_result"
    }
   ],
   "source": [
    "cover_accs"
   ]
  },
  {
   "cell_type": "code",
   "execution_count": 33,
   "id": "ed961d2b",
   "metadata": {},
   "outputs": [
    {
     "data": {
      "text/plain": [
       "[tensor([9.1020, 7.9216, 9.7345, 9.9861, 9.7128, 9.9798, 7.7881, 9.2821, 9.9846,\n",
       "         9.8652]),\n",
       " tensor([8.5541, 7.5084, 9.1037, 9.2515, 9.1324, 9.3240, 7.3361, 8.7519, 9.3542,\n",
       "         9.1903])]"
      ]
     },
     "execution_count": 33,
     "metadata": {},
     "output_type": "execute_result"
    }
   ],
   "source": [
    "avg_sizes"
   ]
  },
  {
   "cell_type": "code",
   "execution_count": null,
   "id": "7371c85b-6364-45f8-a439-ea88bbd2135a",
   "metadata": {},
   "outputs": [],
   "source": []
  }
 ],
 "metadata": {
  "kernelspec": {
   "display_name": "Python 3 (ipykernel)",
   "language": "python",
   "name": "python3"
  },
  "language_info": {
   "codemirror_mode": {
    "name": "ipython",
    "version": 3
   },
   "file_extension": ".py",
   "mimetype": "text/x-python",
   "name": "python",
   "nbconvert_exporter": "python",
   "pygments_lexer": "ipython3",
   "version": "3.9.7"
  },
  "toc-autonumbering": false,
  "toc-showcode": true,
  "toc-showmarkdowntxt": false
 },
 "nbformat": 4,
 "nbformat_minor": 5
}
