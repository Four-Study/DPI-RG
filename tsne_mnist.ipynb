{
 "cells": [
  {
   "cell_type": "markdown",
   "id": "1ab7e5de",
   "metadata": {},
   "source": [
    "## Packages and hyper-parameters "
   ]
  },
  {
   "cell_type": "code",
   "execution_count": 1,
   "id": "99299e51",
   "metadata": {},
   "outputs": [],
   "source": [
    "import itertools\n",
    "\n",
    "import torch\n",
    "import torch.nn as nn\n",
    "import torchvision\n",
    "import torchvision.utils as vutils\n",
    "import torchvision.transforms as transforms\n",
    "import torchvision.models as models\n",
    "from torch import optim\n",
    "from torch.utils.data import DataLoader\n",
    "\n",
    "from models import GeneratorA2B\n",
    "from models import GeneratorB2A\n",
    "from models import DiscriminatorA\n",
    "\n",
    "from utils import train_al\n",
    "from utils import visualize_fake_C, visualize_p\n",
    "from utils import weights_init_normal\n",
    "from utils import weights_init\n",
    "from utils import LambdaLR\n",
    "\n",
    "# import different loss functions for GAN B\n",
    "from geomloss import SamplesLoss\n",
    "\n",
    "import os\n",
    "os.makedirs('mnist_models', exist_ok=True)\n",
    "import numpy as np\n",
    "\n",
    "# hyper-parameters\n",
    "# device        = torch.device(\"cuda\" if cuda else \"cpu\")\n",
    "transform     = transforms.Compose([transforms.ToTensor(),\n",
    "                                    transforms.Normalize((0.5,), (0.5,))])\n",
    "trainset_A    = torchvision.datasets.MNIST(root=\"./datasets\",train=True, transform=transform, download=True)\n",
    "testset_A     = torchvision.datasets.MNIST(root=\"./datasets\",train=False, transform=transform, download=True)\n",
    "missing_label = []\n",
    "present_label = list(range(10))\n",
    "all_label     = present_label + missing_label\n",
    "# classes       = trainset_A.classes\n",
    "# idxs          = torch.where(torch.Tensor([x in present_label for x in trainset_A.targets]))[0] \n",
    "# idxs_         = torch.where(torch.Tensor([x in all_label for x in testset_A.targets]))[0]\n",
    "# train_data    = torch.utils.data.Subset(trainset_A, idxs)\n",
    "# test_data     = torch.utils.data.Subset(testset_A, idxs_)\n",
    "\n",
    "# train_loader  = DataLoader(train_data, batch_size=batch_size, shuffle=True)\n",
    "# test_loader   = DataLoader(test_data, batch_size=batch_size, shuffle=False)"
   ]
  },
  {
   "cell_type": "markdown",
   "id": "3f238445",
   "metadata": {},
   "source": [
    "## TSNE dimension reduction"
   ]
  },
  {
   "cell_type": "code",
   "execution_count": 2,
   "id": "05a7c4e3-003e-4fd4-a75a-57a6de40b461",
   "metadata": {},
   "outputs": [],
   "source": [
    "from sklearn.neighbors import KernelDensity\n",
    "from sklearn.manifold import TSNE\n",
    "# kdes = []\n",
    "# for i in range(len(present_label)):\n",
    "#     if torch.is_tensor(trainset_A.targets):\n",
    "#         idxs = torch.where(trainset_A.targets == i)[0] \n",
    "#     else:\n",
    "#         idxs = torch.where(torch.Tensor(trainset_A.targets) == i)[0] \n",
    "#     x_subset = trainset_A.data[idxs].view(-1, 28*28)\n",
    "#     train_data = torch.utils.data.Subset(trainset_A, idxs)\n",
    "#     x_subset = train_data.dataset.data.view(-1,28*28)\n",
    "x_train    = trainset_A.data.view(-1, 28*28)\n",
    "x_test     = testset_A.data.view(-1, 28*28)\n",
    "x_all      = torch.cat((x_train, x_test), 0)\n",
    "tsne_all   = TSNE(n_components=2, random_state=42, n_iter=500).fit_transform(x_all)\n",
    "tsne_train = tsne_all[:len(x_train),:]\n",
    "tsne_test = tsne_all[len(x_train):,:]"
   ]
  },
  {
   "cell_type": "markdown",
   "id": "b3192487",
   "metadata": {},
   "source": [
    "## Conditional density estimation"
   ]
  },
  {
   "cell_type": "code",
   "execution_count": 11,
   "id": "3563a4df",
   "metadata": {},
   "outputs": [],
   "source": [
    "kdes = []\n",
    "for i in range(10):\n",
    "    if torch.is_tensor(trainset_A.targets):\n",
    "        idxs = torch.where(trainset_A.targets == i)[0] \n",
    "    else:\n",
    "        idxs = torch.where(torch.Tensor(trainset_A.targets) == i)[0] \n",
    "    kde = KernelDensity(kernel='gaussian', bandwidth=1)\n",
    "    kde.fit(tsne_train[idxs])\n",
    "    kdes.append(kde)"
   ]
  },
  {
   "cell_type": "markdown",
   "id": "02db36f7",
   "metadata": {},
   "source": [
    "## dens_class and store p-values for each class "
   ]
  },
  {
   "cell_type": "code",
   "execution_count": 12,
   "id": "ca660b3a",
   "metadata": {},
   "outputs": [],
   "source": [
    "dens_classes = np.zeros((len(present_label), len(testset_A)))\n",
    "for lab in all_label:   \n",
    "    kde = kdes[lab]\n",
    "    log_p = kde.score_samples(tsne_test)\n",
    "    p = np.exp(log_p)\n",
    "    # calculate the p-value and put it in the corresponding list\n",
    "    dens_classes[lab, :] = p\n",
    "    ## logger\n",
    "#     print('Finished Label {}'.format(lab))"
   ]
  },
  {
   "cell_type": "code",
   "execution_count": 13,
   "id": "11224ce2",
   "metadata": {},
   "outputs": [
    {
     "data": {
      "text/plain": [
       "array([1.96091345e-14, 2.42076140e-05, 8.68497574e-05, 1.89709612e-05,\n",
       "       8.06078040e-06, 9.75218717e-08, 5.42156515e-39, 1.11438278e-02,\n",
       "       4.17691623e-07, 2.61479891e-05])"
      ]
     },
     "execution_count": 13,
     "metadata": {},
     "output_type": "execute_result"
    }
   ],
   "source": [
    "dens_classes[:,0]"
   ]
  },
  {
   "cell_type": "markdown",
   "id": "402bf67f",
   "metadata": {},
   "source": [
    "## Coverage and set size error"
   ]
  },
  {
   "cell_type": "code",
   "execution_count": 14,
   "id": "f1be6a1b",
   "metadata": {},
   "outputs": [],
   "source": [
    "cover_accs = []\n",
    "avg_sizes = []"
   ]
  },
  {
   "cell_type": "code",
   "execution_count": 15,
   "id": "bb1589bb",
   "metadata": {},
   "outputs": [],
   "source": [
    "cover = torch.zeros(len(all_label))\n",
    "size = torch.zeros(len(all_label))\n",
    "count = torch.zeros(len(all_label))\n",
    "for i in range(len(testset_A)):\n",
    "    dens = dens_classes[:,i]\n",
    "    lab = testset_A.targets[i].item()\n",
    "    ## sort the p value list and get the corresponding indicies\n",
    "    sorted = -np.sort(-dens)\n",
    "    indicies = np.argsort(-dens)\n",
    "    if sorted[0] == 0:\n",
    "        p_set = np.array([])\n",
    "    else:\n",
    "        ## find the minimum index when the coverage first exceeds 1-alpha\n",
    "        idx = np.argmax(np.cumsum(sorted) / np.sum(sorted) > 0.95)\n",
    "        p_set = indicies[:idx + 1]\n",
    "        size[lab] += len(p_set)\n",
    "    if lab in missing_label:\n",
    "        if len(p_set) == 0:\n",
    "            cover[lab] += 1\n",
    "    else:\n",
    "        if lab in p_set:\n",
    "            cover[lab] += 1\n",
    "    count[lab] += 1\n",
    "\n",
    "cover_acc = torch.div(cover, count)\n",
    "avg_size = torch.div(size, count)\n",
    "cover_accs.append(cover_acc)\n",
    "avg_sizes.append(avg_size)"
   ]
  },
  {
   "cell_type": "code",
   "execution_count": 16,
   "id": "a5703dce",
   "metadata": {},
   "outputs": [],
   "source": [
    "cover = torch.zeros(len(all_label))\n",
    "size = torch.zeros(len(all_label))\n",
    "count = torch.zeros(len(all_label))\n",
    "for i in range(len(testset_A)):\n",
    "    dens = dens_classes[:,i]\n",
    "    lab = testset_A.targets[i].item()\n",
    "    ## sort the p value list and get the corresponding indicies\n",
    "    sorted = -np.sort(-dens)\n",
    "    sorted_norm = sorted / np.sum(sorted)\n",
    "    indicies = np.argsort(-dens)\n",
    "    if sorted[0] == 0:\n",
    "        p_set = np.array([])\n",
    "    else:\n",
    "        ## find the minimum index when the coverage first exceeds 1-alpha\n",
    "        sorted_norm_cumsum = np.cumsum(sorted_norm)\n",
    "        idx = np.argmax(sorted_norm_cumsum > 0.95)\n",
    "        if idx != 0:\n",
    "            gamma = (0.95 - sorted_norm_cumsum[idx - 1]) / sorted_norm[idx]\n",
    "        else: \n",
    "            gamma = 0.95 / sorted_norm[idx]\n",
    "        if np.random.rand(1) < gamma:\n",
    "            p_set = indicies[:idx + 1]\n",
    "        else: \n",
    "            p_set = indicies[:idx]\n",
    "        size[lab] += len(p_set)\n",
    "    if lab in missing_label:\n",
    "        if len(p_set) == 0:\n",
    "            cover[lab] += 1\n",
    "    else:\n",
    "        if lab in p_set:\n",
    "            cover[lab] += 1\n",
    "    count[lab] += 1\n",
    "\n",
    "cover_acc = torch.div(cover, count)\n",
    "avg_size = torch.div(size, count)\n",
    "cover_accs.append(cover_acc)\n",
    "avg_sizes.append(avg_size)"
   ]
  },
  {
   "cell_type": "code",
   "execution_count": 17,
   "id": "179111ad",
   "metadata": {},
   "outputs": [
    {
     "data": {
      "text/plain": [
       "[tensor([0.9939, 0.9974, 0.9787, 0.9802, 0.9817, 0.9843, 0.9885, 0.9767, 0.9610,\n",
       "         0.9752]),\n",
       " tensor([0.9561, 0.9868, 0.9506, 0.9604, 0.9440, 0.9709, 0.9541, 0.9621, 0.9374,\n",
       "         0.9673])]"
      ]
     },
     "execution_count": 17,
     "metadata": {},
     "output_type": "execute_result"
    }
   ],
   "source": [
    "cover_accs"
   ]
  },
  {
   "cell_type": "code",
   "execution_count": 18,
   "id": "ed961d2b",
   "metadata": {},
   "outputs": [
    {
     "data": {
      "text/plain": [
       "[tensor([1.1173, 1.4141, 1.4060, 1.3980, 1.1965, 1.5538, 1.1075, 1.6060, 1.3563,\n",
       "         1.7939]),\n",
       " tensor([1.0337, 1.2326, 1.2306, 1.2168, 1.1008, 1.3442, 1.0344, 1.3940, 1.2166,\n",
       "         1.5441])]"
      ]
     },
     "execution_count": 18,
     "metadata": {},
     "output_type": "execute_result"
    }
   ],
   "source": [
    "avg_sizes"
   ]
  },
  {
   "cell_type": "code",
   "execution_count": null,
   "id": "7371c85b-6364-45f8-a439-ea88bbd2135a",
   "metadata": {},
   "outputs": [],
   "source": []
  }
 ],
 "metadata": {
  "kernelspec": {
   "display_name": "Python 3 (ipykernel)",
   "language": "python",
   "name": "python3"
  },
  "language_info": {
   "codemirror_mode": {
    "name": "ipython",
    "version": 3
   },
   "file_extension": ".py",
   "mimetype": "text/x-python",
   "name": "python",
   "nbconvert_exporter": "python",
   "pygments_lexer": "ipython3",
   "version": "3.9.7"
  },
  "toc-autonumbering": false,
  "toc-showcode": true,
  "toc-showmarkdowntxt": false
 },
 "nbformat": 4,
 "nbformat_minor": 5
}
