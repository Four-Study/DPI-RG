{
 "cells": [
  {
   "cell_type": "code",
   "execution_count": 1,
   "id": "397cf45f",
   "metadata": {},
   "outputs": [],
   "source": [
    "import pickle\n",
    "import numpy as np\n",
    "import torch"
   ]
  },
  {
   "cell_type": "code",
   "execution_count": 2,
   "id": "06f5f1d8",
   "metadata": {},
   "outputs": [],
   "source": [
    "benchmark = np.array([1] * 9 + [0])\n",
    "weights5 = [1000] * 9 + [int(9000 / 19)]\n",
    "weights10 = [1000] * 9 + [int(9000 / 9)]"
   ]
  },
  {
   "cell_type": "code",
   "execution_count": 4,
   "id": "3dfa29af",
   "metadata": {},
   "outputs": [
    {
     "name": "stdout",
     "output_type": "stream",
     "text": [
      "[[0.         0.43612334 0.         0.08415841 0.         0.98206276\n",
      "  0.         0.         0.         0.        ]\n",
      " [0.9653061  0.94273126 0.95348835 0.949505   0.94399184 0.9540359\n",
      "  0.9467641  0.9533074  0.9527721  0.9444995 ]\n",
      " [0.9489796  0.953304   0.96705425 0.9554455  0.95112014 0.95179373\n",
      "  0.93632567 0.9435798  0.9527721  0.9573836 ]\n",
      " [0.9612245  0.94361234 0.93701553 0.9554455  0.94602853 0.95739913\n",
      "  0.9394572  0.9484436  0.9517454  0.9454906 ]\n",
      " [0.9520408  0.94096917 0.95155036 0.949505   0.9521385  0.93273544\n",
      "  0.94258875 0.93871593 0.9353183  0.9544103 ]\n",
      " [0.95       0.91894275 0.95155036 0.95445544 0.9470468  0.9450673\n",
      "  0.954071   0.94941634 0.949692   0.94747275]\n",
      " [0.9459184  0.94096917 0.93992245 0.9564356  0.9541752  0.9394619\n",
      "  0.9634656  0.95525295 0.9342916  0.9494549 ]\n",
      " [0.9510204  0.9550661  0.93992245 0.9554455  0.95010185 0.92600894\n",
      "  0.94050103 0.95719844 0.9445585  0.9494549 ]\n",
      " [0.94693875 0.95154184 0.93313956 0.95940596 0.92769855 0.9596413\n",
      "  0.9446764  0.94747084 0.9507187  0.9444995 ]\n",
      " [0.96224487 0.9629956  0.9622093  0.95247525 0.9521385  0.9506726\n",
      "  0.96137786 0.95428014 0.9517454  0.95143706]]\n",
      "[[1.0877551  1.4317181  1.0271318  1.0673268  1.0539715  1.0156951\n",
      "  1.0584551  1.0087548  1.0800822  1.0891973 ]\n",
      " [0.9653061  0.94273126 0.95348835 0.949505   0.94399184 0.9540359\n",
      "  0.9467641  0.9533074  0.9527721  0.9444995 ]\n",
      " [0.9489796  0.953304   0.96705425 0.9554455  0.95112014 0.95179373\n",
      "  0.93632567 0.9435798  0.9527721  0.9573836 ]\n",
      " [0.9612245  0.94361234 0.93701553 0.9574257  0.94602853 0.95739913\n",
      "  0.9394572  0.9484436  0.9517454  0.94648165]\n",
      " [0.9520408  0.94096917 0.95155036 0.949505   0.9521385  0.93273544\n",
      "  0.94258875 0.942607   0.9353183  0.9544103 ]\n",
      " [0.95       0.91894275 0.95155036 0.95445544 0.9470468  0.9450673\n",
      "  0.954071   0.94941634 0.949692   0.94747275]\n",
      " [0.9459184  0.94096917 0.93992245 0.9564356  0.9541752  0.9394619\n",
      "  0.9634656  0.95525295 0.9342916  0.9494549 ]\n",
      " [1.8785714  1.8581498  1.8478682  1.8425742  0.95010185 1.8957399\n",
      "  1.9300627  1.9494164  1.9096509  1.9167492 ]\n",
      " [0.95612246 0.95154184 1.5242248  1.3732673  1.5122199  1.3239911\n",
      "  1.4070982  1.8920233  1.7268994  1.64222   ]\n",
      " [1.9622449  0.9629956  1.9622093  1.9524752  1.9521385  1.9506726\n",
      "  1.9613779  1.9542801  1.9517454  1.9514371 ]]\n"
     ]
    }
   ],
   "source": [
    "with open('outputs/MNIST/OOD0.pkl', 'rb') as inp:\n",
    "    res = pickle.load(inp)\n",
    "cover_accs, avg_counts = res\n",
    "\n",
    "for i in range(len(avg_counts)):\n",
    "    cover_accs[i] = cover_accs[i].numpy()\n",
    "    avg_counts[i] = avg_counts[i].numpy()\n",
    "cover_accs = np.array(cover_accs)\n",
    "avg_counts = np.array(avg_counts)\n",
    "\n",
    "print(cover_accs)\n",
    "print(avg_counts)\n",
    "\n",
    "# print(np.mean(np.average(cover_accs, 1)))\n",
    "# print(np.std(np.average(cover_accs, 1)))\n",
    "\n",
    "# print(np.mean(np.average(avg_counts, 1)))\n",
    "# print(np.std(np.average(avg_counts, 1)))\n",
    "\n",
    "# print(np.mean(np.average(cover_accs, 1, weights = weights5)))\n",
    "# print(np.std(np.average(cover_accs, 1, weights = weights5)))\n",
    "\n",
    "# print(np.mean(np.average(avg_counts, 1, weights = weights5)))\n",
    "# print(np.std(np.average(avg_counts, 1, weights = weights5)))"
   ]
  },
  {
   "cell_type": "code",
   "execution_count": null,
   "id": "a6987a06-6fc9-4b8b-8109-dc3ad82540c7",
   "metadata": {},
   "outputs": [],
   "source": []
  },
  {
   "cell_type": "code",
   "execution_count": 22,
   "id": "dbe265cc",
   "metadata": {},
   "outputs": [
    {
     "name": "stdout",
     "output_type": "stream",
     "text": [
      "0.9577200031280517\n",
      "0.0020989504153993547\n",
      "0.04228000040864572\n",
      "0.0020989520765093746\n"
     ]
    }
   ],
   "source": [
    "with open('fmnist/FCI_VGG16_fmnist_OOD10.pkl', 'rb') as inp:\n",
    "    res = pickle.load(inp)\n",
    "cover_accs, avg_counts = res\n",
    "\n",
    "for i in range(len(avg_counts)):\n",
    "    cover_accs[i] = cover_accs[i].numpy()\n",
    "    avg_counts[i] = avg_counts[i].numpy()\n",
    "cover_accs = np.array(cover_accs)\n",
    "avg_counts = np.array(avg_counts)\n",
    "\n",
    "print(np.mean(np.average(cover_accs, 1, weights = weights10)))\n",
    "print(np.std(np.average(cover_accs, 1, weights = weights10)))\n",
    "\n",
    "print(np.mean(np.average(avg_counts, 1, weights = weights10)))\n",
    "print(np.std(np.average(avg_counts, 1, weights = weights10)))"
   ]
  },
  {
   "cell_type": "code",
   "execution_count": 5,
   "id": "b048f7cd",
   "metadata": {},
   "outputs": [
    {
     "name": "stdout",
     "output_type": "stream",
     "text": [
      "0.99969995\n",
      "0.00018973673\n",
      "0.23379\n",
      "0.030671332\n"
     ]
    }
   ],
   "source": [
    "# FCI on Res18\n",
    "with open('fmnist/FPI_resnet18_fmnist_OOD0.pkl', 'rb') as inp:\n",
    "    res = pickle.load(inp)\n",
    "cover_accs, avg_errors = res\n",
    "for i in range(len(avg_counts)):\n",
    "    cover_accs[i] = cover_accs[i].numpy()\n",
    "    avg_errors[i] = avg_errors[i].numpy()\n",
    "cover_accs = np.array(cover_accs)\n",
    "avg_errors = np.array(avg_errors)\n",
    "\n",
    "print(np.mean(np.mean(cover_accs, 1)))\n",
    "print(np.std(np.mean(cover_accs, 1)))\n",
    "\n",
    "print(np.mean(np.mean(avg_errors, 1)))\n",
    "print(np.std(np.mean(avg_errors, 1)))"
   ]
  },
  {
   "cell_type": "code",
   "execution_count": 11,
   "id": "e5a86aba",
   "metadata": {},
   "outputs": [
    {
     "name": "stdout",
     "output_type": "stream",
     "text": [
      "0.94701750378978\n",
      "0.0027702445679946173\n",
      "0.052982493938484664\n",
      "0.002770249265421771\n"
     ]
    }
   ],
   "source": [
    "# FCI on Res18 with outliers\n",
    "\n",
    "with open('fmnist/FCI_Res18_fmnist_OOD5.pkl', 'rb') as inp:\n",
    "    res = pickle.load(inp)\n",
    "cover_accs, avg_counts = res\n",
    "for i in range(len(avg_counts)):\n",
    "    cover_accs[i] = cover_accs[i].numpy()\n",
    "    avg_counts[i] = avg_counts[i].numpy()\n",
    "cover_accs = np.array(cover_accs)\n",
    "avg_counts = np.array(avg_counts)\n",
    "\n",
    "print(np.mean(np.average(cover_accs, 1, weights = weights5)))\n",
    "print(np.std(np.average(cover_accs, 1, weights = weights5)))\n",
    "\n",
    "print(np.mean(np.average(avg_counts, 1, weights = weights5)))\n",
    "print(np.std(np.average(avg_counts, 1, weights = weights5)))"
   ]
  },
  {
   "cell_type": "code",
   "execution_count": 12,
   "id": "31ccf280",
   "metadata": {},
   "outputs": [
    {
     "name": "stdout",
     "output_type": "stream",
     "text": [
      "0.9473499993483226\n",
      "0.008730165656534304\n",
      "0.05265000021511999\n",
      "0.008730167922643374\n"
     ]
    }
   ],
   "source": [
    "# FCI on Res18 with outliers\n",
    "\n",
    "with open('fmnist/FCI_Res18_fmnist_OOD10.pkl', 'rb') as inp:\n",
    "    res = pickle.load(inp)\n",
    "cover_accs, avg_counts = res\n",
    "for i in range(len(avg_counts)):\n",
    "    cover_accs[i] = cover_accs[i].numpy()\n",
    "    avg_counts[i] = avg_counts[i].numpy()\n",
    "cover_accs = np.array(cover_accs)\n",
    "avg_counts = np.array(avg_counts)\n",
    "\n",
    "# print(np.mean(np.mean(top1s_acc, 1)))\n",
    "# print(np.mean(np.mean(top3s_acc, 1)))\n",
    "\n",
    "print(np.mean(np.average(cover_accs, 1, weights = weights10)))\n",
    "print(np.std(np.average(cover_accs, 1, weights = weights10)))\n",
    "\n",
    "print(np.mean(np.average(avg_counts, 1, weights = weights10)))\n",
    "print(np.std(np.average(avg_counts, 1, weights = weights10)))"
   ]
  },
  {
   "cell_type": "code",
   "execution_count": 13,
   "id": "8311f98c",
   "metadata": {},
   "outputs": [
    {
     "name": "stdout",
     "output_type": "stream",
     "text": [
      "0.95056\n",
      "0.0024743355\n",
      "9.95056\n",
      "0.0024743322\n"
     ]
    }
   ],
   "source": [
    "# FCI on Res34\n",
    "with open('fmnist/FCI_Res34_fmnist.pkl', 'rb') as inp:\n",
    "    res = pickle.load(inp)\n",
    "top1s, top3s, cover_accs, avg_counts = res\n",
    "for i in range(len(avg_counts)):\n",
    "    cover_accs[i] = cover_accs[i].numpy()\n",
    "    avg_counts[i] = avg_counts[i].numpy()\n",
    "cover_accs = np.array(cover_accs)\n",
    "avg_counts = np.array(avg_counts)\n",
    "\n",
    "print(np.mean(np.mean(cover_accs, 1)))\n",
    "print(np.std(np.mean(cover_accs, 1)))\n",
    "\n",
    "print(np.mean(np.mean(avg_counts, 1)))\n",
    "print(np.std(np.mean(avg_counts, 1)))"
   ]
  },
  {
   "cell_type": "code",
   "execution_count": 16,
   "id": "ca721f08",
   "metadata": {},
   "outputs": [
    {
     "name": "stdout",
     "output_type": "stream",
     "text": [
      "0.9641296290475465\n",
      "0.0036411776626115123\n",
      "0.03587036841105291\n",
      "0.0036411801951418904\n"
     ]
    }
   ],
   "source": [
    "# FCI on Res34 with outliers\n",
    "with open('fmnist/FCI_Res34_fmnist_OOD5.pkl', 'rb') as inp:\n",
    "    res = pickle.load(inp)\n",
    "cover_accs, avg_counts = res\n",
    "for i in range(len(avg_counts)):\n",
    "    cover_accs[i] = cover_accs[i].numpy()\n",
    "    avg_counts[i] = avg_counts[i].numpy()\n",
    "cover_accs = np.array(cover_accs)\n",
    "avg_counts = np.array(avg_counts)\n",
    "\n",
    "# print(np.mean(np.mean(top1s_acc, 1)))\n",
    "# print(np.mean(np.mean(top3s_acc, 1)))\n",
    "\n",
    "print(np.mean(np.average(cover_accs, 1, weights = weights5)))\n",
    "print(np.std(np.average(cover_accs, 1, weights = weights5)))\n",
    "\n",
    "print(np.mean(np.average(avg_counts, 1, weights = weights5)))\n",
    "print(np.std(np.average(avg_counts, 1, weights = weights5)))"
   ]
  },
  {
   "cell_type": "code",
   "execution_count": 17,
   "id": "7c559c19",
   "metadata": {},
   "outputs": [
    {
     "name": "stdout",
     "output_type": "stream",
     "text": [
      "0.9580599999427795\n",
      "0.010956204077373433\n",
      "0.04194000029936432\n",
      "0.010956203929771351\n"
     ]
    }
   ],
   "source": [
    "with open('fmnist/FCI_Res34_fmnist_OOD10.pkl', 'rb') as inp:\n",
    "    res = pickle.load(inp)\n",
    "cover_accs, avg_counts = res\n",
    "\n",
    "for i in range(len(avg_counts)):\n",
    "    cover_accs[i] = cover_accs[i].numpy()\n",
    "    avg_counts[i] = avg_counts[i].numpy()\n",
    "cover_accs = np.array(cover_accs)\n",
    "avg_counts = np.array(avg_counts)\n",
    "\n",
    "print(np.mean(np.average(cover_accs, 1, weights = weights10)))\n",
    "print(np.std(np.average(cover_accs, 1, weights = weights10)))\n",
    "\n",
    "print(np.mean(np.average(avg_counts, 1, weights = weights10)))\n",
    "print(np.std(np.average(avg_counts, 1, weights = weights10)))"
   ]
  }
 ],
 "metadata": {
  "kernelspec": {
   "display_name": "Python 3 (ipykernel)",
   "language": "python",
   "name": "python3"
  },
  "language_info": {
   "codemirror_mode": {
    "name": "ipython",
    "version": 3
   },
   "file_extension": ".py",
   "mimetype": "text/x-python",
   "name": "python",
   "nbconvert_exporter": "python",
   "pygments_lexer": "ipython3",
   "version": "3.11.5"
  }
 },
 "nbformat": 4,
 "nbformat_minor": 5
}
