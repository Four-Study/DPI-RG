{
 "cells": [
  {
   "cell_type": "code",
   "execution_count": 3,
   "id": "397cf45f",
   "metadata": {},
   "outputs": [],
   "source": [
    "import pickle\n",
    "import numpy as np\n",
    "import torch\n",
    "\n",
    "benchmark = np.array([1] * 7 + [0] + [1] * 2)\n",
    "weights5 = [1000] * 7 + [int(9000 / 19)] + [1000] * 2"
   ]
  },
  {
   "cell_type": "code",
   "execution_count": 58,
   "id": "578b2cc8",
   "metadata": {},
   "outputs": [
    {
     "name": "stdout",
     "output_type": "stream",
     "text": [
      "0.9044699999999999\n",
      "0.0021753390540327692\n",
      "0.9490400000000001\n",
      "0.0029584455377782612\n",
      "1.8813900000000001\n",
      "0.014122708663708983\n",
      "2.3847200000000006\n",
      "0.047641532301133986\n"
     ]
    }
   ],
   "source": [
    "# naive and APS\n",
    "with open('../APS/APS_resnet18_cifar10_OOD0.pkl', 'rb') as inp:\n",
    "    res = pickle.load(inp)\n",
    "naive_covert, naive_sizet, APS_covert, APS_sizet, top1t_acc, top3t_acc, \\\n",
    "naive_covers, naive_sizes, APS_covers, APS_sizes, top1s_acc, top3s_acc = res\n",
    "\n",
    "# print(np.mean(np.mean(top1s_acc, 1)))\n",
    "# print(np.mean(np.mean(top3s_acc, 1)))\n",
    "\n",
    "# print(np.std(np.mean(top1s_acc, 1)))\n",
    "# print(np.std(np.mean(top3s_acc, 1)))\n",
    "\n",
    "print(np.mean(np.mean(naive_covers, 1)))\n",
    "print(np.std(np.mean(naive_covers, 1)))\n",
    "\n",
    "print(np.mean(np.mean(APS_covers, 1)))\n",
    "print(np.std(np.mean(APS_covers, 1)))\n",
    "\n",
    "print(np.mean(np.mean(naive_sizes, 1)))\n",
    "print(np.std(np.mean(naive_sizes, 1)))\n",
    "\n",
    "print(np.mean(np.mean(APS_sizes, 1)))\n",
    "print(np.std(np.mean(APS_sizes, 1)))"
   ]
  },
  {
   "cell_type": "code",
   "execution_count": 4,
   "id": "2e885db2",
   "metadata": {},
   "outputs": [
    {
     "name": "stdout",
     "output_type": "stream",
     "text": [
      "0.9103200000000001\n",
      "0.004147963355672301\n",
      "0.9502499999999999\n",
      "0.0015564382416273386\n",
      "1.9636100000000003\n",
      "0.02466700022296997\n",
      "2.4343600000000003\n",
      "0.040347346876839295\n"
     ]
    }
   ],
   "source": [
    "# naive and APS\n",
    "with open('../APS/APS_resnet34_cifar10_OOD0.pkl', 'rb') as inp:\n",
    "    res = pickle.load(inp)\n",
    "naive_covert, naive_sizet, APS_covert, APS_sizet, top1t_acc, top3t_acc, \\\n",
    "naive_covers, naive_sizes, APS_covers, APS_sizes, top1s_acc, top3s_acc = res\n",
    "\n",
    "# print(np.mean(np.mean(top1s_acc, 1)))\n",
    "# print(np.mean(np.mean(top3s_acc, 1)))\n",
    "\n",
    "# print(np.std(np.mean(top1s_acc, 1)))\n",
    "# print(np.std(np.mean(top3s_acc, 1)))\n",
    "\n",
    "print(np.mean(np.mean(naive_covers, 1)))\n",
    "print(np.std(np.mean(naive_covers, 1)))\n",
    "\n",
    "print(np.mean(np.mean(APS_covers, 1)))\n",
    "print(np.std(np.mean(APS_covers, 1)))\n",
    "\n",
    "print(np.mean(np.mean(naive_sizes, 1)))\n",
    "print(np.std(np.mean(naive_sizes, 1)))\n",
    "\n",
    "print(np.mean(np.mean(APS_sizes, 1)))\n",
    "print(np.std(np.mean(APS_sizes, 1)))"
   ]
  },
  {
   "cell_type": "code",
   "execution_count": 12,
   "id": "a6dd8542",
   "metadata": {},
   "outputs": [
    {
     "name": "stdout",
     "output_type": "stream",
     "text": [
      "0.9027100000000001\n",
      "0.0049964887671243565\n",
      "0.94825\n",
      "0.0027569004334578053\n",
      "1.43045\n",
      "0.044016457149570816\n",
      "1.7686199999999999\n",
      "0.054878480299658444\n"
     ]
    }
   ],
   "source": [
    "# naive and APS\n",
    "with open('../APS/APS_vgg16_cifar10_OOD0.pkl', 'rb') as inp:\n",
    "    res = pickle.load(inp)\n",
    "naive_covert, naive_sizet, APS_covert, APS_sizet, top1t_acc, top3t_acc, \\\n",
    "naive_covers, naive_sizes, APS_covers, APS_sizes, top1s_acc, top3s_acc = res\n",
    "\n",
    "# print(np.mean(np.mean(top1s_acc, 1)))\n",
    "# print(np.mean(np.mean(top3s_acc, 1)))\n",
    "\n",
    "# print(np.std(np.mean(top1s_acc, 1)))\n",
    "# print(np.std(np.mean(top3s_acc, 1)))\n",
    "\n",
    "print(np.mean(np.mean(naive_covers, 1)))\n",
    "print(np.std(np.mean(naive_covers, 1)))\n",
    "\n",
    "print(np.mean(np.mean(APS_covers, 1)))\n",
    "print(np.std(np.mean(APS_covers, 1)))\n",
    "\n",
    "print(np.mean(np.mean(naive_sizes, 1)))\n",
    "print(np.std(np.mean(naive_sizes, 1)))\n",
    "\n",
    "print(np.mean(np.mean(APS_sizes, 1)))\n",
    "print(np.std(np.mean(APS_sizes, 1)))"
   ]
  },
  {
   "cell_type": "code",
   "execution_count": 27,
   "id": "fe2ddf7f",
   "metadata": {},
   "outputs": [],
   "source": [
    "benchmark = np.array([1] * 7 + [0] + [1] * 2)\n",
    "weights5 = [1000] * 7 + [int(9000 / 19)] + [1000] * 2"
   ]
  },
  {
   "cell_type": "code",
   "execution_count": 28,
   "id": "1064cf19",
   "metadata": {},
   "outputs": [
    {
     "name": "stdout",
     "output_type": "stream",
     "text": [
      "0.8588831415602238\n",
      "0.004517265421451552\n",
      "0.8999366620922622\n",
      "0.002323565242949218\n",
      "0.49001372321334313\n",
      "0.04059725614610346\n",
      "0.7950279742425841\n",
      "0.06002402685008042\n"
     ]
    }
   ],
   "source": [
    "# naive and APS\n",
    "with open('../APS/APS_vgg16_cifar10_OOD5.pkl', 'rb') as inp:\n",
    "    res = pickle.load(inp)\n",
    "naive_covert, naive_sizet, APS_covert, APS_sizet, top1t_acc, top3t_acc, \\\n",
    "naive_covers, naive_sizes, APS_covers, APS_sizes, top1s_acc, top3s_acc = res\n",
    "\n",
    "# print(np.mean(np.mean(top1s_acc, 1)))\n",
    "# print(np.mean(np.mean(top3s_acc, 1)))\n",
    "\n",
    "print(np.mean(np.average(naive_covers, 1, weights = weights5)))\n",
    "print(np.std(np.average(naive_covers, 1, weights = weights5)))\n",
    "\n",
    "print(np.mean(np.average(APS_covers, 1, weights = weights5)))\n",
    "print(np.std(np.average(APS_covers, 1, weights = weights5)))\n",
    "\n",
    "print(np.mean(np.average(naive_sizes - benchmark, 1, weights = weights5)))\n",
    "print(np.std(np.average(naive_sizes - benchmark, 1, weights = weights5)))\n",
    "\n",
    "print(np.mean(np.average(APS_sizes - benchmark, 1, weights = weights5)))\n",
    "print(np.std(np.average(APS_sizes - benchmark, 1, weights = weights5)))"
   ]
  },
  {
   "cell_type": "code",
   "execution_count": 29,
   "id": "19a4d441",
   "metadata": {},
   "outputs": [
    {
     "name": "stdout",
     "output_type": "stream",
     "text": [
      "0.8177999999999999\n",
      "0.00508251906046591\n",
      "0.85185\n",
      "0.003591448175875586\n",
      "0.60962\n",
      "0.046853469455313594\n",
      "0.9086799999999998\n",
      "0.03239780239460695\n"
     ]
    }
   ],
   "source": [
    "# naive and APS\n",
    "with open('../APS/APS_vgg16_cifar10_OOD10.pkl', 'rb') as inp:\n",
    "    res = pickle.load(inp)\n",
    "naive_covert, naive_sizet, APS_covert, APS_sizet, top1t_acc, top3t_acc, \\\n",
    "naive_covers, naive_sizes, APS_covers, APS_sizes, top1s_acc, top3s_acc = res\n",
    "\n",
    "# print(np.mean(np.mean(top1s_acc, 1)))\n",
    "# print(np.mean(np.mean(top3s_acc, 1)))\n",
    "\n",
    "print(np.mean(np.average(naive_covers, 1)))\n",
    "print(np.std(np.average(naive_covers, 1)))\n",
    "\n",
    "print(np.mean(np.average(APS_covers, 1)))\n",
    "print(np.std(np.average(APS_covers, 1)))\n",
    "\n",
    "print(np.mean(np.average(naive_sizes - benchmark, 1)))\n",
    "print(np.std(np.average(naive_sizes - benchmark, 1)))\n",
    "\n",
    "print(np.mean(np.average(APS_sizes - benchmark, 1)))\n",
    "print(np.std(np.average(APS_sizes - benchmark, 1)))"
   ]
  },
  {
   "cell_type": "code",
   "execution_count": 30,
   "id": "07a5a8c1",
   "metadata": {},
   "outputs": [
    {
     "name": "stdout",
     "output_type": "stream",
     "text": [
      "0.8610260741053521\n",
      "0.0026885472530812963\n",
      "0.9031563390689328\n",
      "0.002865102156222922\n",
      "0.8856117386255674\n",
      "0.020960509673344865\n",
      "1.3561912804813683\n",
      "0.015399261969592544\n"
     ]
    }
   ],
   "source": [
    "# naive and APS\n",
    "with open('../APS/APS_resnet18_cifar10_OOD5.pkl', 'rb') as inp:\n",
    "    res = pickle.load(inp)\n",
    "naive_covert, naive_sizet, APS_covert, APS_sizet, top1t_acc, top3t_acc, \\\n",
    "naive_covers, naive_sizes, APS_covers, APS_sizes, top1s_acc, top3s_acc = res\n",
    "\n",
    "# print(np.mean(np.mean(top1s_acc, 1)))\n",
    "# print(np.mean(np.mean(top3s_acc, 1)))\n",
    "\n",
    "print(np.mean(np.average(naive_covers, 1, weights = weights5)))\n",
    "print(np.std(np.average(naive_covers, 1, weights = weights5)))\n",
    "\n",
    "print(np.mean(np.average(APS_covers, 1, weights = weights5)))\n",
    "print(np.std(np.average(APS_covers, 1, weights = weights5)))\n",
    "\n",
    "print(np.mean(np.average(naive_sizes - benchmark, 1, weights = weights5)))\n",
    "print(np.std(np.average(naive_sizes - benchmark, 1, weights = weights5)))\n",
    "\n",
    "print(np.mean(np.average(APS_sizes - benchmark, 1, weights = weights5)))\n",
    "print(np.std(np.average(APS_sizes - benchmark, 1, weights = weights5)))"
   ]
  },
  {
   "cell_type": "code",
   "execution_count": 31,
   "id": "50cbac03",
   "metadata": {},
   "outputs": [
    {
     "name": "stdout",
     "output_type": "stream",
     "text": [
      "0.81132\n",
      "0.0014012851244482665\n",
      "0.8532500000000001\n",
      "0.00230965365368923\n",
      "0.97011\n",
      "0.014688461457892694\n",
      "1.4481000000000002\n",
      "0.04004474996800461\n"
     ]
    }
   ],
   "source": [
    "# naive and APS\n",
    "with open('../APS/APS_resnet18_cifar10_OOD10.pkl', 'rb') as inp:\n",
    "    res = pickle.load(inp)\n",
    "naive_covert, naive_sizet, APS_covert, APS_sizet, top1t_acc, top3t_acc, \\\n",
    "naive_covers, naive_sizes, APS_covers, APS_sizes, top1s_acc, top3s_acc = res\n",
    "\n",
    "# print(np.mean(np.mean(top1s_acc, 1)))\n",
    "# print(np.mean(np.mean(top3s_acc, 1)))\n",
    "\n",
    "print(np.mean(np.average(naive_covers, 1)))\n",
    "print(np.std(np.average(naive_covers, 1)))\n",
    "\n",
    "print(np.mean(np.average(APS_covers, 1)))\n",
    "print(np.std(np.average(APS_covers, 1)))\n",
    "\n",
    "print(np.mean(np.average(naive_sizes - benchmark, 1)))\n",
    "print(np.std(np.average(naive_sizes - benchmark, 1)))\n",
    "\n",
    "print(np.mean(np.average(APS_sizes - benchmark, 1)))\n",
    "print(np.std(np.average(APS_sizes - benchmark, 1)))"
   ]
  },
  {
   "cell_type": "code",
   "execution_count": 18,
   "id": "9e9d42a9",
   "metadata": {},
   "outputs": [
    {
     "data": {
      "text/plain": [
       "array([1, 1, 1, 1, 1, 1, 1, 1, 1, 0])"
      ]
     },
     "execution_count": 18,
     "metadata": {},
     "output_type": "execute_result"
    }
   ],
   "source": [
    "benchmark"
   ]
  },
  {
   "cell_type": "code",
   "execution_count": 32,
   "id": "5c73a0f0",
   "metadata": {},
   "outputs": [
    {
     "name": "stdout",
     "output_type": "stream",
     "text": [
      "0.8685105035363666\n",
      "0.0022779154644683524\n",
      "0.9032196769766705\n",
      "0.0022471819961829196\n",
      "0.9909004539216723\n",
      "0.0219518524028237\n",
      "1.4113902670748444\n",
      "0.04720453132891177\n"
     ]
    }
   ],
   "source": [
    "# naive and APS\n",
    "with open('../APS/APS_resnet34_cifar10_OOD5.pkl', 'rb') as inp:\n",
    "    res = pickle.load(inp)\n",
    "naive_covert, naive_sizet, APS_covert, APS_sizet, top1t_acc, top3t_acc, \\\n",
    "naive_covers, naive_sizes, APS_covers, APS_sizes, top1s_acc, top3s_acc = res\n",
    "\n",
    "# print(np.mean(np.mean(top1s_acc, 1)))\n",
    "# print(np.mean(np.mean(top3s_acc, 1)))\n",
    "\n",
    "print(np.mean(np.average(naive_covers, 1, weights = weights5)))\n",
    "print(np.std(np.average(naive_covers, 1, weights = weights5)))\n",
    "\n",
    "print(np.mean(np.average(APS_covers, 1, weights = weights5)))\n",
    "print(np.std(np.average(APS_covers, 1, weights = weights5)))\n",
    "\n",
    "print(np.mean(np.average(naive_sizes - benchmark, 1, weights = weights5)))\n",
    "print(np.std(np.average(naive_sizes - benchmark, 1, weights = weights5)))\n",
    "\n",
    "print(np.mean(np.average(APS_sizes - benchmark, 1, weights = weights5)))\n",
    "print(np.std(np.average(APS_sizes - benchmark, 1, weights = weights5)))"
   ]
  },
  {
   "cell_type": "code",
   "execution_count": 33,
   "id": "5fd9537c",
   "metadata": {},
   "outputs": [
    {
     "name": "stdout",
     "output_type": "stream",
     "text": [
      "0.8169299999999999\n",
      "0.0029342971901291817\n",
      "0.8527799999999999\n",
      "0.0033869750515762376\n",
      "1.0814500000000002\n",
      "0.028048859156835665\n",
      "1.51488\n",
      "0.026742916819225235\n"
     ]
    }
   ],
   "source": [
    "# naive and APS\n",
    "with open('../APS/APS_resnet34_cifar10_OOD10.pkl', 'rb') as inp:\n",
    "    res = pickle.load(inp)\n",
    "naive_covert, naive_sizet, APS_covert, APS_sizet, top1t_acc, top3t_acc, \\\n",
    "naive_covers, naive_sizes, APS_covers, APS_sizes, top1s_acc, top3s_acc = res\n",
    "\n",
    "# print(np.mean(np.mean(top1s_acc, 1)))\n",
    "# print(np.mean(np.mean(top3s_acc, 1)))\n",
    "\n",
    "print(np.mean(np.average(naive_covers, 1)))\n",
    "print(np.std(np.average(naive_covers, 1)))\n",
    "\n",
    "print(np.mean(np.average(APS_covers, 1)))\n",
    "print(np.std(np.average(APS_covers, 1)))\n",
    "\n",
    "print(np.mean(np.average(naive_sizes - benchmark, 1)))\n",
    "print(np.std(np.average(naive_sizes - benchmark, 1)))\n",
    "\n",
    "print(np.mean(np.average(APS_sizes - benchmark, 1)))\n",
    "print(np.std(np.average(APS_sizes - benchmark, 1)))"
   ]
  },
  {
   "cell_type": "code",
   "execution_count": 4,
   "id": "11def168",
   "metadata": {},
   "outputs": [
    {
     "name": "stdout",
     "output_type": "stream",
     "text": [
      "0.97290003\n",
      "0.013783355\n",
      "0.58685\n",
      "0.27786976\n"
     ]
    }
   ],
   "source": [
    "with open('cifar10/FCI_resnet18_cifar10_OOD0.pkl', 'rb') as inp:\n",
    "    res = pickle.load(inp)\n",
    "cover_accs, avg_errors = res\n",
    "\n",
    "for i in range(len(avg_errors)):\n",
    "    cover_accs[i] = cover_accs[i].numpy()\n",
    "    avg_errors[i] = avg_errors[i].numpy()\n",
    "cover_accs = np.array(cover_accs)\n",
    "avg_errors = np.array(avg_errors)\n",
    "\n",
    "print(np.mean(np.average(cover_accs, 1)))\n",
    "print(np.std(np.average(cover_accs, 1)))\n",
    "\n",
    "print(np.mean(np.average(avg_errors, 1)))\n",
    "print(np.std(np.average(avg_errors, 1)))\n"
   ]
  },
  {
   "cell_type": "code",
   "execution_count": 4,
   "id": "930bc936",
   "metadata": {},
   "outputs": [
    {
     "name": "stdout",
     "output_type": "stream",
     "text": [
      "0.99660003\n",
      "0.005525573\n",
      "0.2806\n",
      "0.29817313\n"
     ]
    }
   ],
   "source": [
    "with open('cifar10/FPI_resnet18_cifar10_OOD0.pkl', 'rb') as inp:\n",
    "    res = pickle.load(inp)\n",
    "cover_accs, avg_errors = res\n",
    "\n",
    "for i in range(len(avg_errors)):\n",
    "    cover_accs[i] = cover_accs[i].numpy()\n",
    "    avg_errors[i] = avg_errors[i].numpy()\n",
    "cover_accs = np.array(cover_accs)\n",
    "avg_errors = np.array(avg_errors)\n",
    "\n",
    "print(np.mean(np.average(cover_accs, 1)))\n",
    "print(np.std(np.average(cover_accs, 1)))\n",
    "\n",
    "print(np.mean(np.average(avg_errors, 1)))\n",
    "print(np.std(np.average(avg_errors, 1)))"
   ]
  },
  {
   "cell_type": "code",
   "execution_count": 5,
   "id": "91413b99",
   "metadata": {},
   "outputs": [
    {
     "name": "stdout",
     "output_type": "stream",
     "text": [
      "0.9566\n",
      "0.031131074\n",
      "1.0947502\n",
      "0.36576214\n"
     ]
    }
   ],
   "source": [
    "with open('cifar10/FCI_resnet34_cifar10_OOD0.pkl', 'rb') as inp:\n",
    "    res = pickle.load(inp)\n",
    "cover_accs, avg_errors = res\n",
    "\n",
    "for i in range(len(avg_errors)):\n",
    "    cover_accs[i] = cover_accs[i].numpy()\n",
    "    avg_errors[i] = avg_errors[i].numpy()\n",
    "cover_accs = np.array(cover_accs)\n",
    "avg_errors = np.array(avg_errors)\n",
    "\n",
    "print(np.mean(np.average(cover_accs, 1)))\n",
    "print(np.std(np.average(cover_accs, 1)))\n",
    "\n",
    "print(np.mean(np.average(avg_errors, 1)))\n",
    "print(np.std(np.average(avg_errors, 1)))"
   ]
  },
  {
   "cell_type": "code",
   "execution_count": 20,
   "id": "2e17abd4",
   "metadata": {},
   "outputs": [
    {
     "name": "stdout",
     "output_type": "stream",
     "text": [
      "0.91779995\n",
      "0.008299977\n",
      "0.08770001\n",
      "0.013800006\n"
     ]
    }
   ],
   "source": [
    "with open('cifar10/FCI_Res34_cifar10_OOD.pkl', 'rb') as inp:\n",
    "    res = pickle.load(inp)\n",
    "cover_accs, avg_errors = res\n",
    "\n",
    "for i in range(len(avg_errors)):\n",
    "    cover_accs[i] = cover_accs[i].numpy()\n",
    "    avg_errors[i] = avg_errors[i].numpy()\n",
    "cover_accs = np.array(cover_accs)\n",
    "avg_errors = np.array(avg_errors)\n",
    "\n",
    "print(np.mean(np.average(cover_accs, 1)))\n",
    "print(np.std(np.average(cover_accs, 1)))\n",
    "\n",
    "print(np.mean(np.average(avg_errors, 1)))\n",
    "print(np.std(np.average(avg_errors, 1)))"
   ]
  },
  {
   "cell_type": "code",
   "execution_count": 67,
   "id": "8edca272",
   "metadata": {},
   "outputs": [
    {
     "name": "stdout",
     "output_type": "stream",
     "text": [
      "[[0.939 0.873 0.922 0.999 0.955 0.907 0.965 0.944 0.947 0.935]\n",
      " [0.999 0.95  0.967 0.958 0.894 0.845 0.991 0.95  0.807 0.876]\n",
      " [0.986 0.855 0.906 0.989 0.897 0.898 0.974 0.907 0.944 0.862]\n",
      " [0.999 0.954 0.924 0.947 0.937 0.854 0.969 0.977 0.949 0.957]]\n",
      "[[1.799 1.63  2.744 3.161 3.388 3.436 4.104 1.446 1.633 1.698]\n",
      " [1.372 1.234 2.079 2.448 2.468 3.153 2.115 1.372 1.244 2.146]\n",
      " [1.501 1.257 1.945 2.534 2.564 2.456 3.155 1.871 1.188 1.193]\n",
      " [1.327 0.994 2.07  2.68  2.294 2.628 2.461 1.708 1.131 0.99 ]]\n"
     ]
    }
   ],
   "source": [
    "print(cover_accs)\n",
    "print(avg_errors)"
   ]
  },
  {
   "cell_type": "code",
   "execution_count": 23,
   "id": "a752a9b8",
   "metadata": {},
   "outputs": [
    {
     "name": "stdout",
     "output_type": "stream",
     "text": [
      "0.95133334\n",
      "0.0007717407\n",
      "6.2791333\n",
      "0.31130558\n"
     ]
    }
   ],
   "source": [
    "with open('cifar10/FCI_vgg16_cifar10_OOD0.pkl', 'rb') as inp:\n",
    "    res = pickle.load(inp)\n",
    "cover_accs, avg_errors = res\n",
    "\n",
    "for i in range(len(avg_errors)):\n",
    "    cover_accs[i] = cover_accs[i].numpy()\n",
    "    avg_errors[i] = avg_errors[i].numpy()\n",
    "cover_accs = np.array(cover_accs)\n",
    "avg_errors = np.array(avg_errors)\n",
    "\n",
    "print(np.mean(np.average(cover_accs, 1)))\n",
    "print(np.std(np.average(cover_accs, 1)))\n",
    "\n",
    "print(np.mean(np.average(avg_errors, 1)))\n",
    "print(np.std(np.average(avg_errors, 1)))"
   ]
  },
  {
   "cell_type": "code",
   "execution_count": 7,
   "id": "dcbf2eb7",
   "metadata": {},
   "outputs": [],
   "source": [
    "FCI_weights5 = [1000] * 9 + [int(9000 / 19)] "
   ]
  },
  {
   "cell_type": "code",
   "execution_count": 8,
   "id": "34fe2507",
   "metadata": {},
   "outputs": [
    {
     "name": "stdout",
     "output_type": "stream",
     "text": [
      "0.9467763764308493\n",
      "0.026332330134995408\n",
      "0.32185080811451217\n",
      "0.2901682196321764\n"
     ]
    }
   ],
   "source": [
    "with open('cifar10/FCI_resnet18_cifar10_OOD5.pkl', 'rb') as inp:\n",
    "    res = pickle.load(inp)\n",
    "cover_accs, avg_errors = res\n",
    "\n",
    "for i in range(len(avg_errors)):\n",
    "    cover_accs[i] = cover_accs[i].numpy()\n",
    "    avg_errors[i] = avg_errors[i].numpy()\n",
    "cover_accs = np.array(cover_accs)\n",
    "avg_errors = np.array(avg_errors)\n",
    "\n",
    "print(np.mean(np.average(cover_accs, 1, weights = FCI_weights5)))\n",
    "print(np.std(np.average(cover_accs, 1, weights = FCI_weights5)))\n",
    "\n",
    "print(np.mean(np.average(avg_errors, 1, weights = FCI_weights5)))\n",
    "print(np.std(np.average(avg_errors, 1, weights = FCI_weights5)))"
   ]
  },
  {
   "cell_type": "code",
   "execution_count": 14,
   "id": "ae5d064a",
   "metadata": {},
   "outputs": [
    {
     "data": {
      "text/plain": [
       "0.8939"
      ]
     },
     "execution_count": 14,
     "metadata": {},
     "output_type": "execute_result"
    }
   ],
   "source": [
    "np.average(np.array([1.0000, 1.0000, 1.0000, 0.9940, 0.9980, 1.0000, 0.9940, 0.9870, 0.8480,\n",
    "        0.1180]))"
   ]
  },
  {
   "cell_type": "code",
   "execution_count": 15,
   "id": "8ab10639",
   "metadata": {},
   "outputs": [
    {
     "data": {
      "text/plain": [
       "1.3597"
      ]
     },
     "execution_count": 15,
     "metadata": {},
     "output_type": "execute_result"
    }
   ],
   "source": [
    "np.average(np.array([0.6350, 0.8710, 1.7410, 1.1860, 1.7270, 2.2370, 1.9060, 0.3430, 0.4980,\n",
    "        2.4530]))"
   ]
  },
  {
   "cell_type": "code",
   "execution_count": 9,
   "id": "6dc2fd18",
   "metadata": {},
   "outputs": [
    {
     "name": "stdout",
     "output_type": "stream",
     "text": [
      "0.9475368975296854\n",
      "0.0034958337901902503\n",
      "0.6780235385774911\n",
      "0.4179724461525744\n"
     ]
    }
   ],
   "source": [
    "with open('cifar10/FCI_resnet34_cifar10_OOD5.pkl', 'rb') as inp:\n",
    "    res = pickle.load(inp)\n",
    "cover_accs, avg_errors = res\n",
    "\n",
    "for i in range(len(avg_errors)):\n",
    "    cover_accs[i] = cover_accs[i].numpy()\n",
    "    avg_errors[i] = avg_errors[i].numpy()\n",
    "cover_accs = np.array(cover_accs)\n",
    "avg_errors = np.array(avg_errors)\n",
    "\n",
    "print(np.mean(np.average(cover_accs[[0, 2]], 1, weights = FCI_weights5)))\n",
    "print(np.std(np.average(cover_accs[[0, 2]], 1, weights = FCI_weights5)))\n",
    "\n",
    "print(np.mean(np.average(avg_errors[[0, 2]], 1, weights = FCI_weights5)))\n",
    "print(np.std(np.average(avg_errors[[0, 2]], 1, weights = FCI_weights5)))"
   ]
  },
  {
   "cell_type": "code",
   "execution_count": 15,
   "id": "4315d068",
   "metadata": {},
   "outputs": [
    {
     "data": {
      "text/plain": [
       "array([[2.837, 1.859, 2.006, 2.81 , 1.934, 3.354, 2.064, 1.866, 1.868,\n",
       "        3.674],\n",
       "       [3.36 , 3.539, 2.614, 3.596, 2.485, 4.051, 2.418, 3.416, 3.926,\n",
       "        4.514],\n",
       "       [1.212, 0.991, 2.009, 3.262, 2.186, 3.147, 0.894, 1.03 , 1.168,\n",
       "        3.621]], dtype=float32)"
      ]
     },
     "execution_count": 15,
     "metadata": {},
     "output_type": "execute_result"
    }
   ],
   "source": [
    "avg_counts"
   ]
  },
  {
   "cell_type": "code",
   "execution_count": 4,
   "id": "9211c8df",
   "metadata": {
    "scrolled": true
   },
   "outputs": [
    {
     "name": "stdout",
     "output_type": "stream",
     "text": [
      "0.90395\n",
      "0.013546492\n",
      "0.09985001\n",
      "0.01769315\n"
     ]
    }
   ],
   "source": [
    "with open('cifar10/FCI_Res18_cifar10_OOD10.pkl', 'rb') as inp:\n",
    "    res = pickle.load(inp)\n",
    "cover_accs, avg_errors = res\n",
    "\n",
    "for i in range(len(avg_errors)):\n",
    "    cover_accs[i] = cover_accs[i].numpy()\n",
    "    avg_errors[i] = avg_errors[i].numpy()\n",
    "cover_accs = np.array(cover_accs)\n",
    "avg_errors = np.array(avg_errors)\n",
    "\n",
    "## treat as OOD10\n",
    "print(np.mean(np.average(cover_accs, 1)))\n",
    "print(np.std(np.average(cover_accs, 1)))\n",
    "\n",
    "print(np.mean(np.average(avg_errors, 1)))\n",
    "print(np.std(np.average(avg_errors, 1)))"
   ]
  },
  {
   "cell_type": "code",
   "execution_count": 10,
   "id": "51564725",
   "metadata": {},
   "outputs": [
    {
     "name": "stdout",
     "output_type": "stream",
     "text": [
      "0.89164\n",
      "0.040097795\n",
      "0.69684994\n",
      "0.427398\n"
     ]
    }
   ],
   "source": [
    "with open('cifar10/FCI_resnet18_cifar10_OOD10.pkl', 'rb') as inp:\n",
    "    res = pickle.load(inp)\n",
    "cover_accs, avg_errors = res\n",
    "\n",
    "for i in range(len(avg_errors)):\n",
    "    cover_accs[i] = cover_accs[i].numpy()\n",
    "    avg_errors[i] = avg_errors[i].numpy()\n",
    "cover_accs = np.array(cover_accs)\n",
    "avg_errors = np.array(avg_errors)\n",
    "\n",
    "## treat as OOD10\n",
    "print(np.mean(np.average(cover_accs, 1)))\n",
    "print(np.std(np.average(cover_accs, 1)))\n",
    "\n",
    "print(np.mean(np.average(avg_errors, 1)))\n",
    "print(np.std(np.average(avg_errors, 1)))"
   ]
  },
  {
   "cell_type": "code",
   "execution_count": 11,
   "id": "8753ec51",
   "metadata": {},
   "outputs": [
    {
     "name": "stdout",
     "output_type": "stream",
     "text": [
      "0.89537\n",
      "0.023139918\n",
      "1.2998599\n",
      "0.5702601\n"
     ]
    }
   ],
   "source": [
    "with open('cifar10/FCI_resnet34_cifar10_OOD10.pkl', 'rb') as inp:\n",
    "    res = pickle.load(inp)\n",
    "cover_accs, avg_errors = res\n",
    "\n",
    "for i in range(len(avg_errors)):\n",
    "    cover_accs[i] = cover_accs[i].numpy()\n",
    "    avg_errors[i] = avg_errors[i].numpy()\n",
    "cover_accs = np.array(cover_accs)\n",
    "avg_errors = np.array(avg_errors)\n",
    "\n",
    "## treat as OOD10\n",
    "print(np.mean(np.average(cover_accs, 1)))\n",
    "print(np.std(np.average(cover_accs, 1)))\n",
    "\n",
    "print(np.mean(np.average(avg_errors, 1)))\n",
    "print(np.std(np.average(avg_errors, 1)))"
   ]
  },
  {
   "cell_type": "code",
   "execution_count": 20,
   "id": "2cd1cc86",
   "metadata": {},
   "outputs": [
    {
     "data": {
      "text/plain": [
       "array([[0.991, 0.999, 1.   , 0.953, 0.996, 0.988, 0.965, 0.989, 0.875,\n",
       "        0.   ],\n",
       "       [1.   , 0.998, 0.999, 0.94 , 0.996, 0.993, 0.969, 0.986, 0.987,\n",
       "        0.   ],\n",
       "       [0.993, 0.989, 0.992, 0.994, 1.   , 0.946, 0.971, 0.988, 0.986,\n",
       "        0.   ]], dtype=float32)"
      ]
     },
     "execution_count": 20,
     "metadata": {},
     "output_type": "execute_result"
    }
   ],
   "source": [
    "cover_accs"
   ]
  },
  {
   "cell_type": "code",
   "execution_count": 5,
   "id": "cc566c1b",
   "metadata": {},
   "outputs": [
    {
     "name": "stdout",
     "output_type": "stream",
     "text": [
      "0.91779995\n",
      "0.008299977\n",
      "0.08770001\n",
      "0.013800006\n"
     ]
    }
   ],
   "source": [
    "with open('cifar10/FCI_Res34_cifar10_OOD.pkl', 'rb') as inp:\n",
    "    res = pickle.load(inp)\n",
    "cover_accs, avg_errors = res\n",
    "\n",
    "for i in range(len(avg_errors)):\n",
    "    cover_accs[i] = cover_accs[i].numpy()\n",
    "    avg_errors[i] = avg_errors[i].numpy()\n",
    "cover_accs = np.array(cover_accs)\n",
    "avg_errors = np.array(avg_errors)\n",
    "\n",
    "## treat as OOD10\n",
    "print(np.mean(np.average(cover_accs, 1)))\n",
    "print(np.std(np.average(cover_accs, 1)))\n",
    "\n",
    "print(np.mean(np.average(avg_errors, 1)))\n",
    "print(np.std(np.average(avg_errors, 1)))"
   ]
  },
  {
   "cell_type": "code",
   "execution_count": 21,
   "id": "bb56417d",
   "metadata": {},
   "outputs": [
    {
     "name": "stdout",
     "output_type": "stream",
     "text": [
      "0.85690004\n",
      "7.6563997\n"
     ]
    }
   ],
   "source": [
    "with open('cifar10/FCI_VGG16_cifar10_OOD.pkl', 'rb') as inp:\n",
    "    res = pickle.load(inp)\n",
    "cover_accs, avg_errors = res\n",
    "\n",
    "for i in range(len(avg_errors)):\n",
    "    cover_accs[i] = cover_accs[i].numpy()\n",
    "    avg_errors[i] = avg_errors[i].numpy()\n",
    "cover_accs = np.array(cover_accs)\n",
    "avg_errors = np.array(avg_errors)\n",
    "\n",
    "## treat as OOD10\n",
    "print(np.mean(np.mean(cover_accs[1:])))\n",
    "print(np.mean(np.mean(avg_errors[1:], 0)))"
   ]
  },
  {
   "cell_type": "code",
   "execution_count": null,
   "id": "41840cce",
   "metadata": {},
   "outputs": [],
   "source": []
  }
 ],
 "metadata": {
  "kernelspec": {
   "display_name": "Python 3 (ipykernel)",
   "language": "python",
   "name": "python3"
  },
  "language_info": {
   "codemirror_mode": {
    "name": "ipython",
    "version": 3
   },
   "file_extension": ".py",
   "mimetype": "text/x-python",
   "name": "python",
   "nbconvert_exporter": "python",
   "pygments_lexer": "ipython3",
   "version": "3.9.7"
  }
 },
 "nbformat": 4,
 "nbformat_minor": 5
}
